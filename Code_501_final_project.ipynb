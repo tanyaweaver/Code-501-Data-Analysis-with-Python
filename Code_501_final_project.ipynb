{
 "cells": [
  {
   "cell_type": "markdown",
   "metadata": {},
   "source": [
    "                      Tatiana Weaver | Code Fellows | November 18, 2016\n",
    "# 2016 New Coder Survey: data analysis and visualization\n",
    "* A survey of 15,000+ people who are actively learning to code, 48 questions\n",
    "* Surveyed by Free Code Camp and CodeNewbie.org\n",
    "* Data source: kaggle.com/freecodecamp/2016-new-coder-survey-\n",
    "* For 'country' criterion used \"CountryLive\" column "
   ]
  },
  {
   "cell_type": "markdown",
   "metadata": {},
   "source": [
    "### Motivation\n",
    "* Being a junior developer myself, I was interested in demographics of the people who are actively learning to code around the world.\n",
    "* Are USA demographics different from the rest of the world?"
   ]
  },
  {
   "cell_type": "code",
   "execution_count": 2,
   "metadata": {
    "collapsed": true
   },
   "outputs": [],
   "source": [
    "import pandas as pd\n",
    "import numpy as np\n",
    "from scipy.stats import ttest_ind\n",
    "import matplotlib.pyplot as plt\n",
    "from sklearn.preprocessing import MinMaxScaler\n",
    "from sklearn.neighbors import KNeighborsClassifier as KN\n",
    "from sklearn.model_selection import train_test_split\n",
    "from sklearn.metrics import accuracy_score\n",
    "from sklearn.model_selection import KFold"
   ]
  },
  {
   "cell_type": "code",
   "execution_count": 59,
   "metadata": {
    "collapsed": true
   },
   "outputs": [],
   "source": [
    "data = pd.read_csv(\"2016-FCC-New-Coders-Survey-Data.csv\", low_memory=False)"
   ]
  },
  {
   "cell_type": "markdown",
   "metadata": {},
   "source": [
    "## Initial Cleaning and Processing"
   ]
  },
  {
   "cell_type": "markdown",
   "metadata": {},
   "source": [
    "### Let's take a look what we are dealing with in the dataset"
   ]
  },
  {
   "cell_type": "code",
   "execution_count": 60,
   "metadata": {
    "collapsed": false
   },
   "outputs": [
    {
     "name": "stdout",
     "output_type": "stream",
     "text": [
      "Columns in the dataset (total: 113)\n",
      "Index(['Age', 'AttendedBootcamp', 'BootcampFinish', 'BootcampFullJobAfter',\n",
      "       'BootcampLoanYesNo', 'BootcampMonthsAgo', 'BootcampName',\n",
      "       'BootcampPostSalary', 'BootcampRecommend', 'ChildrenNumber',\n",
      "       'CityPopulation', 'CodeEventBootcamp', 'CodeEventCoffee',\n",
      "       'CodeEventConferences', 'CodeEventDjangoGirls', 'CodeEventGameJam',\n",
      "       'CodeEventGirlDev', 'CodeEventHackathons', 'CodeEventMeetup',\n",
      "       'CodeEventNodeSchool', 'CodeEventNone', 'CodeEventOther',\n",
      "       'CodeEventRailsBridge', 'CodeEventRailsGirls', 'CodeEventStartUpWknd',\n",
      "       'CodeEventWomenCode', 'CodeEventWorkshop', 'CommuteTime',\n",
      "       'CountryCitizen', 'CountryLive', 'EmploymentField',\n",
      "       'EmploymentFieldOther', 'EmploymentStatus', 'EmploymentStatusOther',\n",
      "       'ExpectedEarning', 'FinanciallySupporting', 'Gender', 'HasChildren',\n",
      "       'HasDebt', 'HasFinancialDependents', 'HasHighSpdInternet',\n",
      "       'HasHomeMortgage', 'HasServedInMilitary', 'HasStudentDebt',\n",
      "       'HomeMortgageOwe', 'HoursLearning', 'ID.x', 'ID.y', 'Income',\n",
      "       'IsEthnicMinority', 'IsReceiveDiabilitiesBenefits', 'IsSoftwareDev',\n",
      "       'IsUnderEmployed', 'JobApplyWhen', 'JobPref'],\n",
      "      dtype='object') Index(['JobRelocateYesNo', 'JobRoleInterest', 'JobRoleInterestOther',\n",
      "       'JobWherePref', 'LanguageAtHome', 'MaritalStatus', 'MoneyForLearning',\n",
      "       'MonthsProgramming', 'NetworkID', 'Part1EndTime', 'Part1StartTime',\n",
      "       'Part2EndTime', 'Part2StartTime', 'PodcastChangeLog',\n",
      "       'PodcastCodeNewbie', 'PodcastCodingBlocks', 'PodcastDeveloperTea',\n",
      "       'PodcastDotNetRocks', 'PodcastHanselminutes', 'PodcastJSJabber',\n",
      "       'PodcastJsAir', 'PodcastNone', 'PodcastOther',\n",
      "       'PodcastProgrammingThrowDown', 'PodcastRubyRogues', 'PodcastSEDaily',\n",
      "       'PodcastShopTalk', 'PodcastTalkPython', 'PodcastWebAhead',\n",
      "       'ResourceBlogs', 'ResourceBooks', 'ResourceCodeWars',\n",
      "       'ResourceCodecademy', 'ResourceCoursera', 'ResourceDevTips',\n",
      "       'ResourceEdX', 'ResourceEggHead', 'ResourceFCC', 'ResourceGoogle',\n",
      "       'ResourceHackerRank', 'ResourceKhanAcademy', 'ResourceLynda',\n",
      "       'ResourceMDN', 'ResourceOdinProj', 'ResourceOther',\n",
      "       'ResourcePluralSight', 'ResourceReddit', 'ResourceSkillCrush',\n",
      "       'ResourceSoloLearn', 'ResourceStackOverflow', 'ResourceTreehouse',\n",
      "       'ResourceUdacity', 'ResourceUdemy', 'ResourceW3Schools',\n",
      "       'ResourceYouTube', 'SchoolDegree', 'SchoolMajor', 'StudentDebtOwe'],\n",
      "      dtype='object')\n"
     ]
    }
   ],
   "source": [
    "print(\"Columns in the dataset (total: {})\".format(len(data.columns)))\n",
    "print(data.columns[:55], data.columns[55:])"
   ]
  },
  {
   "cell_type": "markdown",
   "metadata": {},
   "source": [
    "### Let's define datasets with columns of interest for further analyses"
   ]
  },
  {
   "cell_type": "code",
   "execution_count": 61,
   "metadata": {
    "collapsed": true
   },
   "outputs": [],
   "source": [
    "# Datasets for descriptive statistics\n",
    "data_gender = data.Gender.dropna()\n",
    "data_gender_country = data[[\"Gender\", \"CountryLive\"]].dropna()\n",
    "data_age_gen_country = data[[\"Age\", \"Gender\", \"CountryLive\"]].dropna()\n",
    "data_inc_gen_country = data[[\"Income\", \"Gender\", \"CountryLive\"]].dropna()\n",
    "data_female_country = data[[\"Gender\", \"CountryLive\"]].dropna()\n",
    "data_bc_gender = data[[\"Gender\", \"AttendedBootcamp\"]].dropna()"
   ]
  },
  {
   "cell_type": "markdown",
   "metadata": {},
   "source": [
    "## Exploratory Analysis"
   ]
  },
  {
   "cell_type": "markdown",
   "metadata": {},
   "source": [
    "### To begin, let's take a look at the age, gender, bootcamp attendance, country of residence, and programming experience of the participants"
   ]
  },
  {
   "cell_type": "code",
   "execution_count": 95,
   "metadata": {
    "collapsed": false
   },
   "outputs": [
    {
     "name": "stdout",
     "output_type": "stream",
     "text": [
      "\n",
      "Demographics, bootcamp attendance, and programming experience\n",
      "\n",
      "\n",
      "-----------------------------------------------------------------\n",
      "Total number of participants: 15620\n",
      "Number of countries of residence represented in the survey: 157\n",
      "-----------------------------------------------------------------\n",
      "Top 20 countries by number of participants:\n",
      "\n",
      "United States of America         6265\n",
      "India                             981\n",
      "United Kingdom                    618\n",
      "Canada                            542\n",
      "Brazil                            269\n",
      "Australia                         263\n",
      "Germany                           255\n",
      "Russia                            251\n",
      "Ukraine                           224\n",
      "Poland                            202\n",
      "Spain                             144\n",
      "Netherlands (Holland, Europe)     137\n",
      "France                            134\n",
      "Romania                           131\n",
      "Italy                             118\n",
      "Mexico                            106\n",
      "South Africa                      102\n",
      "Philippines                       101\n",
      "Nigeria                            98\n",
      "Portugal                           85\n",
      "Name: CountryLive, dtype: int64\n",
      "-----------------------------------------------------------------\n",
      "Gender (13746 ppl):\n",
      "\n",
      "Female: 20.7%\n",
      "Male: 78.3%\n",
      "Other: 1.0%\n",
      "-----------------------------------------------------------------\n",
      "Percent of women among participants:\n",
      "\n",
      "USA (6244 ppl): 28.5%\n",
      "The rest of the world (7314 ppl): 13.9%\n",
      "-----------------------------------------------------------------\n",
      "List of top 20 bootcamps attended (total number of bootcamps: 895):\n",
      "\n",
      "General Assembly                                                                 90\n",
      "Flatiron School                                                                  54\n",
      "Dev Bootcamp                                                                     48\n",
      "The Iron Yard                                                                    40\n",
      "Prime Digital Academy                                                            30\n",
      "Hack Reactor                                                                     29\n",
      "Turing                                                                           27\n",
      "Hackbright Academy                                                               22\n",
      "App Academy                                                                      22\n",
      "Bloc.io                                                                          21\n",
      "Code Fellows                                                                     21\n",
      "New York Code + Design Academy                                                   20\n",
      "MakerSquare                                                                      20\n",
      "Galvanize                                                                        20\n",
      "Coding Dojo                                                                      18\n",
      "The Firehose Project                                                             16\n",
      "Free Code Camp is not a bootcamp - please scroll up and change answer to \"no\"    15\n",
      "Epicodus                                                                         14\n",
      "Dev Academy                                                                      13\n",
      "Makers Academy                                                                   12\n",
      "Name: BootcampName, dtype: int64\n",
      "-----------------------------------------------------------------\n",
      "Bootcamp attendance by gender(13627 ppl):\n",
      "\n",
      "11.6% of female participants attended a bootcamp\n",
      "4.6% of male participants attended a bootcamp\n"
     ]
    }
   ],
   "source": [
    "####################\n",
    "# Gender distribution overall\n",
    "print()\n",
    "print(\"Demographics, bootcamp attendance, and programming experience\")\n",
    "print()\n",
    "print()\n",
    "print(\"-----------------------------------------------------------------\")\n",
    "print(\"Total number of participants: {}\".format(len(data)))\n",
    "print(\"Number of countries of residence represented in the survey: {}\".format(len(data.CountryLive.unique())))\n",
    "print(\"-----------------------------------------------------------------\")\n",
    "print(\"Top 20 countries by number of participants:\")\n",
    "print()\n",
    "print(data.CountryLive.dropna().value_counts()[:20])\n",
    "\n",
    "print(\"-----------------------------------------------------------------\")\n",
    "print(\"Gender ({} ppl):\".format(data_gender.count()))\n",
    "print()\n",
    "\n",
    "female_percent = data_gender[data_gender == \"female\"].count() * 100 / total_num1\n",
    "male_percent = data_gender[data_gender == \"male\"].count() * 100 / total_num1\n",
    "\n",
    "print(\"Female: {}%\".format(round(female_percent, 1)))\n",
    "print(\"Male: {}%\".format(round(male_percent, 1)))\n",
    "print(\"Other: {}%\".format(round((100 - female_percent - male_percent), 1)))\n",
    "print(\"-----------------------------------------------------------------\")\n",
    "\n",
    "####################\n",
    "# Female vs Male by country\n",
    "data_gender_usa = data_gender_country[data_gender_country.CountryLive == \"United States of America\"]\n",
    "data_gender_other = data_gender_country[data_gender_country.CountryLive != \"United States of America\"]\n",
    "\n",
    "data_fem_usa = data_gender_usa[data_gender_usa.Gender == \"female\"]\n",
    "data_fem_other = data_gender_other[data_gender_other.Gender == \"female\"]\n",
    "\n",
    "female_percent_usa = len(data_fem_usa) * 100 / len(data_gender_usa)\n",
    "female_percent_other = len(data_fem_other) * 100 / len(data_gender_other)\n",
    "\n",
    "print(\"Percent of women among participants:\")\n",
    "print()\n",
    "print(\"USA ({} ppl): {}%\".format(\n",
    "        len(data_gender_usa),\n",
    "        round(female_percent_usa, 1)))\n",
    "\n",
    "print(\"The rest of the world ({} ppl): {}%\".format(\n",
    "        len(data_gender_other),\n",
    "        round(female_percent_other, 1)\n",
    "       )\n",
    "     )\n",
    "\n",
    "####################\n",
    "# Bootcamp attendance for men vs women\n",
    "fem_bc_all = data_bc_gender[data_bc_gender.Gender == \"female\"]\n",
    "male_bc_all = data_bc_gender[data_bc_gender.Gender == \"male\"]\n",
    "\n",
    "fem_bc = 100 * len(fem_bc_all[fem_bc_all.AttendedBootcamp == 1.]) / len(fem_bc_all)\n",
    "male_bc = 100 * len(male_bc_all[male_bc_all.AttendedBootcamp == 1.]) / len(male_bc_all)\n",
    "print(\"-----------------------------------------------------------------\")\n",
    "data_bc_count = data.BootcampName.dropna()\n",
    "print(\"List of top 20 bootcamps attended (total number of bootcamps: {}):\".format(len(data_bc_count)))\n",
    "print()\n",
    "print(data_bc_count.value_counts()[:20])\n",
    "print(\"-----------------------------------------------------------------\")\n",
    "print(\"Bootcamp attendance by gender({} ppl):\".format(len(data_bc_gender)))\n",
    "print()\n",
    "print(\"{}% of female participants attended a bootcamp\".format(round(fem_bc, 1)))\n",
    "print(\"{}% of male participants attended a bootcamp\".format(round(male_bc, 1)))\n"
   ]
  },
  {
   "cell_type": "code",
   "execution_count": 89,
   "metadata": {
    "collapsed": false
   },
   "outputs": [
    {
     "name": "stdout",
     "output_type": "stream",
     "text": [
      "\n",
      "Average age (yr): 29.2\n",
      "Average number of month programming: 24.4\n",
      "Average income ($): 44930.0\n"
     ]
    },
    {
     "data": {
      "image/png": "[encoded data removed]",
      "text/plain": [
       "<matplotlib.figure.Figure at 0x1146d31d0>"
      ]
     },
     "metadata": {},
     "output_type": "display_data"
    }
   ],
   "source": [
    "#Income, Age, programming experience\n",
    "print()\n",
    "print(\"Average age (yr):\", round(data.Age.dropna().mean(), 1))\n",
    "print(\"Average number of month programming:\", round(data.MonthsProgramming.mean(), 1))\n",
    "print(\"Average income ($):\", round(data.Income.mean(), 1))\n",
    "# Visualization of Age, Months Programming and Income, 3 subplots\n",
    "plt.figure(figsize=(12, 2))\n",
    "ax1 = plt.subplot(1, 3, 1)\n",
    "ax1.hist(data.Age.dropna(), color='green', bins=np.arange(0, 80, 5), label=\"Male\")\n",
    "ax1.set_title(\"Age of Participants\")\n",
    "ax1.set_xlabel(\"Age, years\")\n",
    "ax1.set_ylabel(\"Number of participants\")\n",
    "\n",
    "ax2 = plt.subplot(1, 3, 2)\n",
    "ax2.hist(data.MonthsProgramming.dropna(), color='purple', bins=np.arange(0, 60, 1), label=\"Female\")\n",
    "ax2.set_title(\"Programming Experience\")\n",
    "ax2.set_xlabel(\"Months\")\n",
    "\n",
    "ax3 = plt.subplot(1, 3, 3)\n",
    "ax3.hist(data.Income.dropna(), color='Orange', bins=np.arange(0, 200000, 10000), label=\"Male\")\n",
    "ax3.set_title(\"Income of Participants\")\n",
    "ax3.set_xlabel(\"Income, USD\")\n",
    "\n",
    "plt.show()"
   ]
  },
  {
   "cell_type": "markdown",
   "metadata": {},
   "source": [
    "### Is there a difference in age and income distribition between men and women?\n",
    "### Does this difference look the same in USA compared to the rest of the world?"
   ]
  },
  {
   "cell_type": "code",
   "execution_count": 119,
   "metadata": {
    "collapsed": false
   },
   "outputs": [
    {
     "name": "stdout",
     "output_type": "stream",
     "text": [
      "\n",
      "Age by gender: USA vs. the rest of the world\n",
      "------------------------------------------------\n",
      "  Country   Women (yr)     Men (yr)    Diff          t-Test\n",
      "0             Avg  Std     Avg  Std    (yr)    t-st   p-val\n",
      "1                                                          \n",
      "2     USA    32.3  9.6      31  9.6     1.3    -4.7       0\n",
      "3   Other    28.1  8.1    27.4    8     0.7    -2.5  0.0122\n",
      "\n"
     ]
    },
    {
     "data": {
      "image/png": "[encoded data removed]",
      "text/plain": [
       "<matplotlib.figure.Figure at 0x10ea05898>"
      ]
     },
     "metadata": {},
     "output_type": "display_data"
    },
    {
     "name": "stdout",
     "output_type": "stream",
     "text": [
      "\n",
      "Income by gender: USA vs. the rest of the world\n",
      "------------------------------------------------\n",
      "  Country      Women      ($)        Men      ($)      Diff          t-Test\n",
      "0                Avg      Std        Avg      Std       ($)    t-st   p-val\n",
      "1                                                                          \n",
      "2     USA    46711.9  29646.7    55532.3  37649.3    8820.4     7.5       0\n",
      "3   Other    34122.7  28414.1    36123.9  33622.4    2001.2     1.3  0.1897\n",
      "\n"
     ]
    },
    {
     "data": {
      "image/png": "[encoded data removed]",
      "text/plain": [
       "<matplotlib.figure.Figure at 0x112897c50>"
      ]
     },
     "metadata": {},
     "output_type": "display_data"
    }
   ],
   "source": [
    "# Investigate difference in age between men and women, USA vs the rest of the world\n",
    "\n",
    "# Data <Gender, Age, Country>: split to USA and Other countries\n",
    "data_age_gender_usa = data_age_gen_country[data_age_gen_country.CountryLive == \"United States of America\"]\n",
    "data_age_gender_other = data_age_gen_country[data_age_gen_country.CountryLive != \"United States of America\"]\n",
    "\n",
    "# For USA Age data: split to female and male data\n",
    "data_male_age_usa = data_age_gender_usa[data_age_gender_usa.Gender == 'male'].Age\n",
    "data_fem_age_usa = data_age_gender_usa[data_age_gender_usa.Gender == 'female'].Age\n",
    "\n",
    "# For Other countries Age data: split to female and male data\n",
    "data_male_age_other = data_age_gender_other[data_age_gender_other.Gender == 'male'].Age\n",
    "data_fem_age_other = data_age_gender_other[data_age_gender_other.Gender == 'female'].Age\n",
    "\n",
    "# USA: Avg age and std.dev by gender\n",
    "women_age_avg_usa = data_fem_age_usa.mean()\n",
    "men_age_avg_usa = data_male_age_usa.mean()\n",
    "difference_age_usa = women_age_avg_usa - men_age_avg_usa\n",
    "\n",
    "women_age_std_usa = data_fem_age_usa.std()\n",
    "men_age_std_usa = data_male_age_usa.std()\n",
    "\n",
    "tstat_usa, pval_usa = ttest_ind(data_male_age_usa, data_fem_age_usa, equal_var=False)\n",
    "\n",
    "# Other countries: Avg age and std.dev by gender\n",
    "women_age_avg_other = data_fem_age_other.mean()\n",
    "men_age_avg_other = data_male_age_other.mean()\n",
    "difference_age_other = women_age_avg_other - men_age_avg_other\n",
    "\n",
    "women_age_std_other = data_fem_age_other.std()\n",
    "men_age_std_other = data_male_age_other.std()\n",
    "\n",
    "tstat_other, pval_other = ttest_ind(data_male_age_other, data_fem_age_other, equal_var=False)\n",
    "\n",
    "\n",
    "# DF that holds all the calculated results\n",
    "age_country_stats = pd.DataFrame(\n",
    "[\n",
    "        [\"\", \"\", \"Avg\", \"Std\", \"\", \"Avg\", \"Std\", \"\", \"(yr)\", \"\", \"t-st\", \"p-val\"],\n",
    "        [\"\", \"\", \"\", \"\", \"\", \"\", \"\", \"\", \"\", \"\", \"\", \"\"],\n",
    "        [\"USA\",\n",
    "         \"\",\n",
    "         round(women_age_avg_usa, 1),\n",
    "         round(women_age_std_usa, 1),\n",
    "         \"\",\n",
    "         round(men_age_avg_usa, 1),\n",
    "         round(men_age_std_usa, 1),\n",
    "         \"\",\n",
    "         round(difference_age_usa, 1),\n",
    "         \"\",\n",
    "         round(tstat_usa, 1),\n",
    "         round(pval_usa, 4)\n",
    "        ],\n",
    "        [\"Other\",\n",
    "         \"\",\n",
    "         round(women_age_avg_other, 1),\n",
    "         round(women_age_std_other, 1),\n",
    "         \"\",\n",
    "         round(men_age_avg_other, 1),\n",
    "         round(men_age_std_other, 1),\n",
    "         \"\",\n",
    "         round(difference_age_other, 1),\n",
    "         \"\",\n",
    "         round(tstat_other, 1),\n",
    "         round(pval_other, 4)\n",
    "        ]\n",
    "],\n",
    "        columns=[\n",
    "            \"Country\",\n",
    "            \"\",\n",
    "            \"Women\",\n",
    "            \"(yr)\",\n",
    "            \"\",\n",
    "            \"Men\",\n",
    "            \"(yr)\",\n",
    "            \"\",\n",
    "            \"Diff\",\n",
    "            \"\",\n",
    "            \"\",\n",
    "            \"t-Test\",\n",
    "        ]\n",
    ")\n",
    "\n",
    "print()\n",
    "print(\"Age by gender: USA vs. the rest of the world\")\n",
    "print(\"------------------------------------------------\")\n",
    "print(age_country_stats)\n",
    "print()\n",
    "\n",
    "# Visualize Age distribution for men and women\n",
    "\n",
    "bins=np.arange(0, 80, 2)\n",
    "plt.figure(figsize=(10, 3))\n",
    "ax1 = plt.subplot(1, 2, 1)\n",
    "ax1.hist(data_male_age_usa, color='green', bins=bins, label=\"Male\")\n",
    "ax1.hist(data_fem_age_usa, color='purple', bins=bins, label=\"Female\")\n",
    "ax1.set_title(\"Age distribution in USA\")\n",
    "ax1.set_xlabel(\"Age, years\")\n",
    "ax1.set_ylabel(\"Number of participants\")\n",
    "\n",
    "ax2 = plt.subplot(1, 2, 2)\n",
    "ax2.hist(data_male_age_other, color='green', bins=bins, label=\"Male\")\n",
    "ax2.hist(data_fem_age_other, color='purple', bins=bins, label=\"Female\")\n",
    "ax2.set_title(\"Age distribution in the rest of the world\")\n",
    "ax2.set_xlabel(\"Age, years\")\n",
    "ax2.set_ylabel(\"Number of participants\")\n",
    "plt.legend()\n",
    "\n",
    "plt.show()\n",
    "\n",
    "########################################################\n",
    "# Investigate difference in income between men and women, USA vs other countries\n",
    "\n",
    "# Data <Gender, Income Country>: split to USA and Other countries\n",
    "data_inc_gender_usa = data_inc_gen_country[data_inc_gen_country.CountryLive == \"United States of America\"]\n",
    "data_inc_gender_other = data_inc_gen_country[data_inc_gen_country.CountryLive != \"United States of America\"]\n",
    "\n",
    "# For USA Income data: split to female and male data\n",
    "data_male_inc_usa = data_inc_gender_usa[data_inc_gender_usa.Gender == 'male'].Income\n",
    "data_fem_inc_usa = data_inc_gender_usa[data_inc_gender_usa.Gender == 'female'].Income\n",
    "\n",
    "# For Other countries Income data: split to female and male data\n",
    "data_male_inc_other = data_inc_gender_other[data_inc_gender_other.Gender == 'male'].Income\n",
    "data_fem_inc_other = data_inc_gender_other[data_inc_gender_other.Gender == 'female'].Income\n",
    "\n",
    "# USA: Avg Income and std.dev by gender\n",
    "women_inc_avg_usa = data_fem_inc_usa.mean()\n",
    "men_inc_avg_usa = data_male_inc_usa.mean()\n",
    "\n",
    "difference_inc_usa = men_inc_avg_usa - women_inc_avg_usa\n",
    "\n",
    "women_inc_std_usa = data_fem_inc_usa.std()\n",
    "men_inc_std_usa = data_male_inc_usa.std()\n",
    "\n",
    "tstat_usa, pval_usa = ttest_ind(data_male_inc_usa, data_fem_inc_usa, equal_var=False)\n",
    "\n",
    "# Other countries: Avg Income and std.dev by gender\n",
    "women_inc_avg_other = data_fem_inc_other.mean()\n",
    "men_inc_avg_other = data_male_inc_other.mean()\n",
    "\n",
    "difference_inc_other = men_inc_avg_other - women_inc_avg_other\n",
    "\n",
    "women_inc_std_other = data_fem_inc_other.std()\n",
    "men_inc_std_other = data_male_inc_other.std()\n",
    "\n",
    "tstat_other, pval_other = ttest_ind(data_male_inc_other, data_fem_inc_other, equal_var=False)\n",
    "\n",
    "\n",
    "# DF that holds all the calculated results\n",
    "inc_country_stats = pd.DataFrame(\n",
    "[\n",
    "        [\"\", \"\", \"Avg\", \"Std\", \"\", \"Avg\", \"Std\", \"\", \"($)\", \"\", \"t-st\", \"p-val\"],\n",
    "        [\"\", \"\", \"\", \"\", \"\", \"\", \"\", \"\", \"\", \"\", \"\", \"\"],\n",
    "        [\"USA\",\n",
    "         \"\",\n",
    "         round(women_inc_avg_usa, 1),\n",
    "         round(women_inc_std_usa, 1),\n",
    "         \"\",\n",
    "         round(men_inc_avg_usa, 1),\n",
    "         round(men_inc_std_usa, 1),\n",
    "         \"\",\n",
    "         round(difference_inc_usa, 1),\n",
    "         \"\",\n",
    "         round(tstat_usa, 1),\n",
    "         round(pval_usa, 4)\n",
    "        ],\n",
    "        [\"Other\",\n",
    "         \"\",\n",
    "         round(women_inc_avg_other, 1),\n",
    "         round(women_inc_std_other, 1),\n",
    "         \"\",\n",
    "         round(men_inc_avg_other, 1),\n",
    "         round(men_inc_std_other, 1),\n",
    "         \"\",\n",
    "         round(difference_inc_other, 1),\n",
    "         \"\",\n",
    "         round(tstat_other, 1),\n",
    "         round(pval_other, 4)\n",
    "        ]\n",
    "],\n",
    "        columns=[\n",
    "            \"Country\",\n",
    "            \"\",\n",
    "            \"Women\",\n",
    "            \"($)\",\n",
    "            \"\",\n",
    "            \"Men\",\n",
    "            \"($)\",\n",
    "            \"\",\n",
    "            \"Diff\",\n",
    "            \"\",\n",
    "            \"\",\n",
    "            \"t-Test\",\n",
    "        ]\n",
    ")\n",
    "\n",
    "print()\n",
    "print(\"Income by gender: USA vs. the rest of the world\")\n",
    "print(\"------------------------------------------------\")\n",
    "print(inc_country_stats)\n",
    "print()\n",
    "\n",
    "# Visualize Income distribution for men and women\n",
    "\n",
    "bins=np.arange(0, 200000, 5000)\n",
    "plt.figure(figsize=(10, 3))\n",
    "ax1 = plt.subplot(1, 2, 1)\n",
    "ax1.hist(data_male_inc_usa, color='green', bins=bins, label=\"Male\")\n",
    "ax1.hist(data_fem_inc_usa, color='purple', bins=bins, label=\"Female\")\n",
    "ax1.set_title(\"Income distribution in USA\")\n",
    "ax1.set_xlabel(\"Income, USD\")\n",
    "ax1.set_ylabel(\"Number of participants\")\n",
    "\n",
    "ax2 = plt.subplot(1, 2, 2)\n",
    "ax2.hist(data_male_inc_other, color='green', bins=bins, label=\"Male\")\n",
    "ax2.hist(data_fem_inc_other, color='purple', bins=bins, label=\"Female\")\n",
    "ax2.set_title(\"Income distribution in the rest of the world\")\n",
    "ax2.set_xlabel(\"Income, USD\")\n",
    "ax2.set_ylabel(\"Number of participants\")\n",
    "plt.legend()\n",
    "\n",
    "plt.show()\n"
   ]
  },
  {
   "cell_type": "markdown",
   "metadata": {},
   "source": [
    "* There is a significant difference in age between men vs. women who participated in the survey.\n",
    "* Both in USA and the rest of the world, women tend to be older then men (USA: p-val=0, Other: p-val=0.0122)\n",
    "* On average, participants from USA were older than those from other countries:\n",
    "    * Women: 32.3 yr in USA vs. 28.1 yr in other countries\n",
    "    * Men: 31 yr in USA vs. 27.4 yr in other countries.\n",
    "* The income difference between men and women was statistically significant only for USA (p-val=0) but not for other countries (p-val=0.19)\n",
    "* On average, income of the US responders was higher compared to those from the rest of the world:\n",
    "    * Women: 46711.9 USD in USA vs. 34122.7 USD in other countries\n",
    "    * Men: 55532.3 USD in USA vs. 36123.9 USD in other countries."
   ]
  },
  {
   "cell_type": "markdown",
   "metadata": {},
   "source": [
    "## Reformatting and/or Rescaling Data"
   ]
  },
  {
   "cell_type": "markdown",
   "metadata": {},
   "source": [
    "* Create columns for further analyses"
   ]
  },
  {
   "cell_type": "code",
   "execution_count": 135,
   "metadata": {
    "collapsed": true
   },
   "outputs": [],
   "source": [
    "# Creating a new column \"gender_num\" which is based on the \"Gender\" column:\n",
    "#   - if \"Gender\" is \"male\" -> \"gender_num\" is '1'\n",
    "#   - if \"Gender\" is \"female\" -> \"gender_num\" is '0'\n",
    "#   - \"gender_num\" is 'nan' for other \"Gender\" values"
   ]
  },
  {
   "cell_type": "code",
   "execution_count": 196,
   "metadata": {
    "collapsed": true
   },
   "outputs": [],
   "source": [
    "def gender_to_number(x):\n",
    "    \"\"\"Return '1' for 'male', '0' for 'female', 'nan' otherwise.\"\"\"\n",
    "    if x.Gender == 'male':\n",
    "        return 1\n",
    "    elif x.Gender == 'female':\n",
    "        return 0\n",
    "    \n",
    "# Add \"gender_num\" column to all datasets for modeling\n",
    "data[\"gender_num\"] = [gender_to_number(data.loc[i]) for i in range(len(data))]"
   ]
  },
  {
   "cell_type": "code",
   "execution_count": 197,
   "metadata": {
    "collapsed": true
   },
   "outputs": [],
   "source": [
    "# Datasets for modeling\n",
    "data_m1 = data[[\"Age\", \"gender_num\"]].dropna()\n",
    "data_m1_cl = data_m1.reset_index(drop=True)\n",
    "\n",
    "data_m2 = data[[\"Income\", \"gender_num\"]].dropna()\n",
    "data_m2_cl = data_m2.reset_index(drop=True)\n",
    "\n",
    "data_m3 = data[[\"CountryLive\", \"gender_num\"]].dropna()\n",
    "data_m3_cl = data_m3.reset_index(drop=True)\n",
    "\n",
    "data_m4 = data[[\"Age\", \"Income\", \"CountryLive\", \"gender_num\"]].dropna()\n",
    "data_m4_cl = data_m4.reset_index(drop=True)"
   ]
  },
  {
   "cell_type": "code",
   "execution_count": 198,
   "metadata": {
    "collapsed": true
   },
   "outputs": [],
   "source": [
    "# Creating a new column \"country_num\" which is based on the \"CountryLive\" column:\n",
    "#   - if \"CountryLive\" is \"United States of America\" -> \"country_num\" is '1'\n",
    "#   - for the rest -> \"country_num\" is '0'\n",
    "# (will call this method on the dataset that doesn't have nans)"
   ]
  },
  {
   "cell_type": "code",
   "execution_count": 199,
   "metadata": {
    "collapsed": false
   },
   "outputs": [],
   "source": [
    "def classify_country(x):\n",
    "    \"\"\"Create 2 classes from CountryLive, USA = 1, not USA = 0\"\"\"\n",
    "    if x.CountryLive == \"United States of America\":\n",
    "        return 1\n",
    "    else:\n",
    "        return 0\n",
    "\n",
    "# Add \"country_num\" column to the datasets for modeling that have \"CountryLive\" columns\n",
    "\n",
    "data_m3_cl[\"country_num\"] = [classify_country(data_m3_cl.loc[i]) for i in range(len(data_m3_cl))]\n",
    "data_m4_cl[\"country_num\"] = [classify_country(data_m4_cl.loc[i]) for i in range(len(data_m4_cl))]"
   ]
  },
  {
   "cell_type": "markdown",
   "metadata": {},
   "source": [
    "* Rescale data for k-nearest neighbors analyses"
   ]
  },
  {
   "cell_type": "code",
   "execution_count": 204,
   "metadata": {
    "collapsed": false
   },
   "outputs": [
    {
     "name": "stderr",
     "output_type": "stream",
     "text": [
      "/Users/tatianaphillips/cf/501/lib/python3.5/site-packages/sklearn/utils/validation.py:429: DataConversionWarning: Data with input dtype int64 was converted to float64 by MinMaxScaler.\n",
      "  warnings.warn(msg, _DataConversionWarning)\n"
     ]
    }
   ],
   "source": [
    "scaler = MinMaxScaler()\n",
    "data_m1_cl[\"age_scaled\"] = scaler.fit_transform(data_m1_cl.Age.reshape(-1, 1))\n",
    "data_m2_cl[\"income_scaled\"] = scaler.fit_transform(data_m2_cl.Income.reshape(-1, 1))\n",
    "data_m3_cl[\"country_scaled\"] = scaler.fit_transform(data_m3_cl.country_num.reshape(-1, 1))\n",
    "\n",
    "# rescale 3 columns in data_m4_cl\n",
    "#data_m4_cl[\"age_scaled\"] = scaler.fit_transform(data_m4_cl.Age.reshape(-1, 1))\n",
    "#data_m4_cl[\"income_scaled\"] = scaler.fit_transform(data_m4_cl.Income.reshape(-1, 1))\n",
    "#data_m4_cl[\"country_scaled\"] = scaler.fit_transform(data_m4_cl.country_num.reshape(-1, 1))"
   ]
  },
  {
   "cell_type": "markdown",
   "metadata": {},
   "source": [
    "## Data Modeling"
   ]
  },
  {
   "cell_type": "markdown",
   "metadata": {},
   "source": [
    "### What information (i.e., which column) in the survey predicts the gender of the survey participant with the highest accuracy?\n",
    "### Use k - Nearest Neighbors algorithm for modeling."
   ]
  },
  {
   "cell_type": "markdown",
   "metadata": {},
   "source": [
    "* Datasets for modeling:\n",
    "    * data_m1_cl (\"Age\", \"gender_num\"),\n",
    "    * data_m2_cl (\"Income\", \"gender_num\"),\n",
    "    * data_m3_cl (\"CountryLive\", \"gender_num\", \"country_num\"),\n",
    "    * data_m4_cl (\"Age\", \"Income\", \"CountryLive\", \"gender_num\", \"country_num\")"
   ]
  },
  {
   "cell_type": "code",
   "execution_count": 254,
   "metadata": {
    "collapsed": false
   },
   "outputs": [
    {
     "name": "stdout",
     "output_type": "stream",
     "text": [
      "\n",
      "Gender prediction accuracy for 4 models\n",
      "------------------------------------------------\n",
      "\n",
      "     Model   Prediction based on  accuracy  Size of the dataset for modeling\n",
      "0  Model 1                   Age      79.0                             13436\n",
      "1  Model 2                Income      79.2                              7244\n",
      "2  Model 3               Country      78.8                             13422\n",
      "3  Model 4  Age, Income, Country      79.9                              7178\n"
     ]
    }
   ],
   "source": [
    "# Model 1\n",
    "# Predict Gender based on Age\n",
    "x_train, x_test, y_train, y_test = train_test_split(\n",
    "    data_m1_cl[[\"age_scaled\"]],\n",
    "    data_m1_cl.gender_num,\n",
    "    test_size=0.33\n",
    ")\n",
    "\n",
    "clf = KN(n_neighbors=15)\n",
    "clf.fit(x_train, y_train)\n",
    "\n",
    "y_model = clf.predict(x_test)\n",
    "\n",
    "acc_score_m1 = accuracy_score(y_test, y_model)\n",
    "\n",
    "# Model 2\n",
    "# Predict Gender based on Income\n",
    "x_train, x_test, y_train, y_test = train_test_split(\n",
    "    data_m2_cl[[\"income_scaled\"]],\n",
    "    data_m2_cl.gender_num,\n",
    "    test_size=0.33\n",
    ")\n",
    "\n",
    "clf = KN(n_neighbors=15)\n",
    "clf.fit(x_train, y_train)\n",
    "\n",
    "y_model = clf.predict(x_test)\n",
    "\n",
    "acc_score_m2 = accuracy_score(y_test, y_model)\n",
    "\n",
    "# Model 3\n",
    "# Predict Gender based on CountryLive ( USA or not)\n",
    "x_train, x_test, y_train, y_test = train_test_split(\n",
    "    data_m3_cl[[\"country_scaled\"]],\n",
    "    data_m3_cl.gender_num,\n",
    "    test_size=0.33\n",
    ")\n",
    "\n",
    "clf = KN(n_neighbors=15)\n",
    "clf.fit(x_train, y_train)\n",
    "\n",
    "y_model = clf.predict(x_test)\n",
    "\n",
    "acc_score_m3 = accuracy_score(y_test, y_model)\n",
    "\n",
    "# Model 4\n",
    "# Predict Gender based on Age, Income, and CountryLive ( USA or not)\n",
    "x_train, x_test, y_train, y_test = train_test_split(\n",
    "    data_m4_cl[[\"income_scaled\", \"country_scaled\"]],\n",
    "    data_m4_cl.gender_num,\n",
    "    test_size=0.33\n",
    ")\n",
    "\n",
    "clf = KN(n_neighbors=15)\n",
    "clf.fit(x_train, y_train)\n",
    "\n",
    "y_model = clf.predict(x_test)\n",
    "\n",
    "acc_score_m4 = accuracy_score(y_test, y_model)\n",
    "\n",
    "\n",
    "# DF to hold calculated accuracy for the 4 models\n",
    "model_stats = pd.DataFrame(\n",
    "[\n",
    "        [\"Model 1\",\n",
    "         \"Age\",\n",
    "         round(acc_score_m1 * 100, 1),\n",
    "         len(data_m1_cl)\n",
    "        ],\n",
    "        [\"Model 2\",\n",
    "         \"Income\",\n",
    "         round(acc_score_m2 * 100, 1),\n",
    "         len(data_m2_cl)\n",
    "        ],\n",
    "        [\n",
    "         \"Model 3\",\n",
    "         \"Country\",\n",
    "         round(acc_score_m3 * 100, 1),\n",
    "         len(data_m3_cl)\n",
    "        ],\n",
    "        [\n",
    "         \"Model 4\",\n",
    "         \"Age, Income, Country\",\n",
    "         round(acc_score_m4 * 100, 1),\n",
    "         len(data_m4_cl)\n",
    "        ]\n",
    "],\n",
    "        columns=[\"Model\",\n",
    "                 \"Prediction based on\",\n",
    "                 \"accuracy\",\n",
    "                 \"Size of the dataset for modeling\"\n",
    "                 ]\n",
    ")\n",
    "print()\n",
    "print('Gender prediction accuracy for 4 models')\n",
    "print(\"------------------------------------------------\")\n",
    "print()\n",
    "print(model_stats)"
   ]
  },
  {
   "cell_type": "markdown",
   "metadata": {},
   "source": [
    "* 4 prediction models built with k - Nearest Neighbors algorithm can predict Gender (male/female) of the survey participant with ~ 80% accuracy\n",
    "\n",
    "* The predictions can be made with:\n",
    "   * Age\n",
    "   * Income\n",
    "   * ContryLive (USA vs. not USA)\n",
    "   \n",
    "* If all three parameters (Age, Income, CountryLive) are used together for Gender prediction, the accuracy doesn't increase compared to the cases where they used separately "
   ]
  },
  {
   "cell_type": "code",
   "execution_count": 255,
   "metadata": {
    "collapsed": false
   },
   "outputs": [
    {
     "name": "stdout",
     "output_type": "stream",
     "text": [
      "\n",
      "Cross validation of the prediction models\n",
      "\n",
      "Model 1: prediction of Gender based on Age\n",
      "accuracy:  0.786458333333\n",
      "accuracy:  0.797543729066\n",
      "accuracy:  0.783401563082\n",
      "accuracy:  0.795310755489\n",
      "accuracy:  0.797543729066\n",
      "\n",
      "Model 2: prediction of Gender based on Income\n",
      "accuracy:  0.815044858523\n",
      "accuracy:  0.805383022774\n",
      "accuracy:  0.778467908903\n",
      "accuracy:  0.797101449275\n",
      "accuracy:  0.816298342541\n",
      "\n",
      "Model 3: prediction of Gender based on Country\n",
      "accuracy:  0.784357541899\n",
      "accuracy:  0.783612662942\n",
      "accuracy:  0.801415797317\n",
      "accuracy:  0.792473919523\n",
      "accuracy:  0.795454545455\n",
      "\n",
      "Model 4: prediction of Gender based on Age, Income, and Country\n",
      "accuracy:  0.798050139276\n",
      "accuracy:  0.785515320334\n",
      "accuracy:  0.802228412256\n",
      "accuracy:  0.790243902439\n",
      "accuracy:  0.801393728223\n"
     ]
    }
   ],
   "source": [
    "########################\n",
    "# Cross validation for prediction models, num_of_splits = 5, num_of_neigh = 15\n",
    "########################\n",
    "\n",
    "# Model 1 (prediction of Gender based on Age)\n",
    "\n",
    "kf = KFold(n_splits=5, shuffle=True)\n",
    "\n",
    "kf.get_n_splits(data_m1_cl)\n",
    "print()\n",
    "print(\"Cross validation of the prediction models\")\n",
    "print()\n",
    "print(\"Model 1: prediction of Gender based on Age\")\n",
    "for train_index, test_index in kf.split(data_m1_cl):\n",
    "    clf = KN(n_neighbors=15)\n",
    "    X_train = data_m1_cl[[\"age_scaled\"]].loc[train_index]\n",
    "    X_test = data_m1_cl[[\"age_scaled\"]].loc[test_index]\n",
    "\n",
    "    y_train = data_m1_cl.gender_num.loc[train_index]\n",
    "    y_test = data_m1_cl.gender_num.loc[test_index]\n",
    "    clf.fit(X_train, y_train)\n",
    "    y_model = clf.predict(X_test)\n",
    "    print(\"accuracy: \", accuracy_score(y_test, y_model))\n",
    "    \n",
    "\n",
    "# Model 2 (prediction of Gender based on Income)\n",
    "\n",
    "kf = KFold(n_splits=5, shuffle=True)\n",
    "\n",
    "kf.get_n_splits(data_m2_cl)\n",
    "print()\n",
    "print(\"Model 2: prediction of Gender based on Income\")\n",
    "\n",
    "for train_index, test_index in kf.split(data_m2_cl):\n",
    "    clf = KN(n_neighbors=15)\n",
    "    X_train = data_m2_cl[[\"income_scaled\"]].loc[train_index]\n",
    "    X_test = data_m2_cl[[\"income_scaled\"]].loc[test_index]\n",
    "\n",
    "    y_train = data_m2_cl.gender_num.loc[train_index]\n",
    "    y_test = data_m2_cl.gender_num.loc[test_index]\n",
    "    clf.fit(X_train, y_train)\n",
    "    y_model = clf.predict(X_test)\n",
    "    print(\"accuracy: \", accuracy_score(y_test, y_model))\n",
    "    \n",
    "\n",
    "# Model 3 (prediction of Gender based on Country)\n",
    "\n",
    "kf = KFold(n_splits=5, shuffle=True)\n",
    "\n",
    "kf.get_n_splits(data_m3_cl)\n",
    "\n",
    "print()\n",
    "print(\"Model 3: prediction of Gender based on Country\")\n",
    "\n",
    "for train_index, test_index in kf.split(data_m3_cl):\n",
    "    clf = KN(n_neighbors=15)\n",
    "    X_train = data_m3_cl[[\"country_scaled\"]].loc[train_index]\n",
    "    X_test = data_m3_cl[[\"country_scaled\"]].loc[test_index]\n",
    "\n",
    "    y_train = data_m3_cl.gender_num.loc[train_index]\n",
    "    y_test = data_m3_cl.gender_num.loc[test_index]\n",
    "    clf.fit(X_train, y_train)\n",
    "    y_model = clf.predict(X_test)\n",
    "    print(\"accuracy: \", accuracy_score(y_test, y_model))\n",
    "    \n",
    "    \n",
    "# Model 3 (prediction of Gender based on Country)\n",
    "\n",
    "kf = KFold(n_splits=5, shuffle=True)\n",
    "\n",
    "kf.get_n_splits(data_m3_cl)\n",
    "\n",
    "print()\n",
    "print(\"Model 4: prediction of Gender based on Age, Income, and Country\")\n",
    "\n",
    "for train_index, test_index in kf.split(data_m4_cl):\n",
    "    clf = KN(n_neighbors=15)\n",
    "    X_train = data_m4_cl[[\"age_scaled\", \"income_scaled\", \"country_scaled\"]].loc[train_index]\n",
    "    X_test = data_m4_cl[[\"age_scaled\", \"income_scaled\", \"country_scaled\"]].loc[test_index]\n",
    "\n",
    "    y_train = data_m4_cl.gender_num.loc[train_index]\n",
    "    y_test = data_m4_cl.gender_num.loc[test_index]\n",
    "    clf.fit(X_train, y_train)\n",
    "    y_model = clf.predict(X_test)\n",
    "    print(\"accuracy: \", accuracy_score(y_test, y_model))"
   ]
  },
  {
   "cell_type": "code",
   "execution_count": null,
   "metadata": {
    "collapsed": true
   },
   "outputs": [],
   "source": []
  }
 ],
 "metadata": {
  "kernelspec": {
   "display_name": "Python 3",
   "language": "python",
   "name": "python3"
  },
  "language_info": {
   "codemirror_mode": {
    "name": "ipython",
    "version": 3
   },
   "file_extension": ".py",
   "mimetype": "text/x-python",
   "name": "python",
   "nbconvert_exporter": "python",
   "pygments_lexer": "ipython3",
   "version": "3.5.1"
  }
 },
 "nbformat": 4,
 "nbformat_minor": 1
}
