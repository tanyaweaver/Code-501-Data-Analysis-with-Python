{
 "cells": [
  {
   "cell_type": "markdown",
   "metadata": {},
   "source": [
    "                      Tatiana Weaver | Code Fellows | November 18, 2016\n",
    "# 2016 New Coder Survey: Data Analysis and Visualization\n",
    "* A survey of 15,000+ people who are actively learning to code\n",
    "* Surveyed by Free Code Camp and CodeNewbie.org\n",
    "* Data source: kaggle.com"
   ]
  },
  {
   "cell_type": "markdown",
   "metadata": {},
   "source": [
    "### Motivation\n",
    "* Being a new coder myself, I was interested in demographics of the people who took the survey"
   ]
  },
  {
   "cell_type": "code",
   "execution_count": 1,
   "metadata": {
    "collapsed": true
   },
   "outputs": [],
   "source": [
    "import pandas as pd\n",
    "import numpy as np\n",
    "from scipy.stats import ttest_ind\n",
    "import matplotlib.pyplot as plt\n",
    "from sklearn.preprocessing import MinMaxScaler\n",
    "from sklearn.neighbors import KNeighborsClassifier as KN\n",
    "from sklearn.model_selection import train_test_split\n",
    "from sklearn.metrics import accuracy_score as a_s\n",
    "from sklearn.model_selection import KFold\n",
    "data = pd.read_csv(\"2016-FCC-New-Coders-Survey-Data.csv\", low_memory=False)"
   ]
  },
  {
   "cell_type": "markdown",
   "metadata": {},
   "source": [
    "## Initial Cleaning and Processing"
   ]
  },
  {
   "cell_type": "markdown",
   "metadata": {},
   "source": [
    "* Columns in the dataset"
   ]
  },
  {
   "cell_type": "code",
   "execution_count": 2,
   "metadata": {
    "collapsed": false
   },
   "outputs": [
    {
     "name": "stdout",
     "output_type": "stream",
     "text": [
      "Index(['Age', 'AttendedBootcamp', 'BootcampFinish', 'BootcampFullJobAfter',\n",
      "       'BootcampLoanYesNo', 'BootcampMonthsAgo', 'BootcampName',\n",
      "       'BootcampPostSalary', 'BootcampRecommend', 'ChildrenNumber',\n",
      "       'CityPopulation', 'CodeEventBootcamp', 'CodeEventCoffee',\n",
      "       'CodeEventConferences', 'CodeEventDjangoGirls', 'CodeEventGameJam',\n",
      "       'CodeEventGirlDev', 'CodeEventHackathons', 'CodeEventMeetup',\n",
      "       'CodeEventNodeSchool', 'CodeEventNone', 'CodeEventOther',\n",
      "       'CodeEventRailsBridge', 'CodeEventRailsGirls', 'CodeEventStartUpWknd',\n",
      "       'CodeEventWomenCode', 'CodeEventWorkshop', 'CommuteTime',\n",
      "       'CountryCitizen', 'CountryLive', 'EmploymentField',\n",
      "       'EmploymentFieldOther', 'EmploymentStatus', 'EmploymentStatusOther',\n",
      "       'ExpectedEarning', 'FinanciallySupporting', 'Gender', 'HasChildren',\n",
      "       'HasDebt', 'HasFinancialDependents', 'HasHighSpdInternet',\n",
      "       'HasHomeMortgage', 'HasServedInMilitary', 'HasStudentDebt',\n",
      "       'HomeMortgageOwe', 'HoursLearning', 'ID.x', 'ID.y', 'Income',\n",
      "       'IsEthnicMinority', 'IsReceiveDiabilitiesBenefits', 'IsSoftwareDev',\n",
      "       'IsUnderEmployed', 'JobApplyWhen', 'JobPref'],\n",
      "      dtype='object') Index(['JobRelocateYesNo', 'JobRoleInterest', 'JobRoleInterestOther',\n",
      "       'JobWherePref', 'LanguageAtHome', 'MaritalStatus', 'MoneyForLearning',\n",
      "       'MonthsProgramming', 'NetworkID', 'Part1EndTime', 'Part1StartTime',\n",
      "       'Part2EndTime', 'Part2StartTime', 'PodcastChangeLog',\n",
      "       'PodcastCodeNewbie', 'PodcastCodingBlocks', 'PodcastDeveloperTea',\n",
      "       'PodcastDotNetRocks', 'PodcastHanselminutes', 'PodcastJSJabber',\n",
      "       'PodcastJsAir', 'PodcastNone', 'PodcastOther',\n",
      "       'PodcastProgrammingThrowDown', 'PodcastRubyRogues', 'PodcastSEDaily',\n",
      "       'PodcastShopTalk', 'PodcastTalkPython', 'PodcastWebAhead',\n",
      "       'ResourceBlogs', 'ResourceBooks', 'ResourceCodeWars',\n",
      "       'ResourceCodecademy', 'ResourceCoursera', 'ResourceDevTips',\n",
      "       'ResourceEdX', 'ResourceEggHead', 'ResourceFCC', 'ResourceGoogle',\n",
      "       'ResourceHackerRank', 'ResourceKhanAcademy', 'ResourceLynda',\n",
      "       'ResourceMDN', 'ResourceOdinProj', 'ResourceOther',\n",
      "       'ResourcePluralSight', 'ResourceReddit', 'ResourceSkillCrush',\n",
      "       'ResourceSoloLearn', 'ResourceStackOverflow', 'ResourceTreehouse',\n",
      "       'ResourceUdacity', 'ResourceUdemy', 'ResourceW3Schools',\n",
      "       'ResourceYouTube', 'SchoolDegree', 'SchoolMajor', 'StudentDebtOwe'],\n",
      "      dtype='object')\n",
      "total number of columns: 113\n"
     ]
    }
   ],
   "source": [
    "print(data.columns[:55], data.columns[55:])\n",
    "print('total number of columns:', len(data.columns))"
   ]
  },
  {
   "cell_type": "code",
   "execution_count": 102,
   "metadata": {
    "collapsed": false
   },
   "outputs": [],
   "source": [
    "data_gender = data.Gender.dropna()\n",
    "data_age_gen_country = data[[\"Age\", \"Gender\", \"CountryLive\"]].dropna()\n",
    "data_inc_gen_country = data[[\"Income\", \"Gender\", \"CountryLive\"]].dropna()\n",
    "data_female_country = data[[\"Gender\", \"CountryLive\"]].dropna()\n",
    "data_bc_gender = data[[\"Gender\", \"AttendedBootcamp\"]].dropna()"
   ]
  },
  {
   "cell_type": "markdown",
   "metadata": {},
   "source": [
    "## Exploratory Analysis"
   ]
  },
  {
   "cell_type": "markdown",
   "metadata": {},
   "source": [
    "### Participants demographics"
   ]
  },
  {
   "cell_type": "code",
   "execution_count": 60,
   "metadata": {
    "collapsed": false
   },
   "outputs": [
    {
     "name": "stdout",
     "output_type": "stream",
     "text": [
      "Gender:\n",
      "Female: 20.7%\n",
      "Male: 78.3%\n",
      "Other: 1.0%\n",
      "\n",
      "Percent of women vs. men who is actively learning how to code:\n",
      "USA: 28.5%\n",
      "The rest of the world: 13.9%\n",
      "\n",
      "Bootcamp attendance men vs. women who is actively learning how to code:\n",
      "11.6% of female participants attended a bootcamp\n",
      "4.6% of male participants attended a bootcamp\n"
     ]
    }
   ],
   "source": [
    "####################\n",
    "# Gender distribution in general\n",
    "total_num1 = data_gender.count()\n",
    "female = data_gender[data_gender == \"female\"].count() * 100 / total_num1\n",
    "male = data_gender[data_gender == \"male\"].count() * 100 / total_num1\n",
    "other = 100 - female - male\n",
    "print(\"Gender:\")\n",
    "print(\"Female: {}%\".format(round(female, 1)))\n",
    "print(\"Male: {}%\".format(round(male, 1)))\n",
    "print(\"Other: {}%\".format(round(other, 1)))\n",
    "\n",
    "####################\n",
    "# Female vs Male by country\n",
    "data_gender_usa = data_gender_country[data_gender_country.CountryLive == \"United States of America\"]\n",
    "data_gender_other = data_gender_country[data_gender_country.CountryLive != \"United States of America\"]\n",
    "\n",
    "fem_usa = data_gender_usa[data_gender_usa.Gender == \"female\"]\n",
    "fem_other = data_gender_other[data_gender_other.Gender == \"female\"]\n",
    "\n",
    "female_usa = len(fem_usa) * 100 / len(data_gender_usa)\n",
    "female_other = len(fem_other) * 100 / len(data_gender_other)\n",
    "print()\n",
    "print(\"Percent of women vs. men who is actively learning how to code:\")\n",
    "print(\"USA: {}%\".format(round(female_usa, 1)))\n",
    "print(\"The rest of the world: {}%\".format(round(female_other, 1)))\n",
    "\n",
    "####################\n",
    "# Bootcamp attendance for men vs women\n",
    "fem_bc_all = data_bc_gender[data_bc_gender.Gender == \"female\"]\n",
    "male_bc_all = data_bc_gender[data_bc_gender.Gender == \"male\"]\n",
    "\n",
    "fem_bc = 100 * len(fem_bc_all[fem_bc_all.AttendedBootcamp == 1.]) / len(fem_bc_all)\n",
    "male_bc = 100 * len(male_bc_all[male_bc_all.AttendedBootcamp == 1.]) / len(male_bc_all)\n",
    "print()\n",
    "print(\"Bootcamp attendance men vs. women who is actively learning how to code:\")\n",
    "print(\"{}% of female participants attended a bootcamp\".format(round(fem_bc, 1)))\n",
    "print(\"{}% of male participants attended a bootcamp\".format(round(male_bc, 1)))"
   ]
  },
  {
   "cell_type": "markdown",
   "metadata": {},
   "source": [
    "### Is there a difference in age and income distribition for men and women between USA and the rest of the world?"
   ]
  },
  {
   "cell_type": "code",
   "execution_count": 112,
   "metadata": {
    "collapsed": false
   },
   "outputs": [
    {
     "name": "stdout",
     "output_type": "stream",
     "text": [
      "\n",
      "Age by gender: USA vs the rest of the world\n",
      "------------------------------------------------\n",
      "  Country  Avg W age, yr  Std  Avg M age, yr  Std, yr  Diff, yr  t-st   p-val\n",
      "0     USA           32.3  9.6           31.0      9.6       1.3  -4.7  0.0000\n",
      "1   Other           28.1  8.1           27.4      8.0       0.7  -2.5  0.0122\n",
      "\n"
     ]
    },
    {
     "data": {
      "image/png": "[encoded data removed]",
      "text/plain": [
       "<matplotlib.figure.Figure at 0x10ac5dac8>"
      ]
     },
     "metadata": {},
     "output_type": "display_data"
    },
    {
     "name": "stdout",
     "output_type": "stream",
     "text": [
      "\n",
      "Income by gender: USA vs the rest of the world\n",
      "------------------------------------------------\n",
      "  Country  Avg W inc, $   Std, $  Avg M inc, $   Std, $  Diff, $  t-st   p-val\n",
      "0     USA       46711.9  29646.7       55532.3  37649.3   8820.4   7.5  0.0000\n",
      "1   Other       34122.7  28414.1       36123.9  33622.4   2001.2   1.3  0.1897\n",
      "\n"
     ]
    },
    {
     "data": {
      "image/png": "[encoded data removed]",
      "text/plain": [
       "<matplotlib.figure.Figure at 0x109e0bcc0>"
      ]
     },
     "metadata": {},
     "output_type": "display_data"
    }
   ],
   "source": [
    "# Investigate difference in age between men and women, USA vs the rest of the world\n",
    "\n",
    "# Data <Gender, Age, Country>: split to USA and Other countries\n",
    "data_age_gender_usa = data_age_gen_country[data_age_gen_country.CountryLive == \"United States of America\"]\n",
    "data_age_gender_other = data_age_gen_country[data_age_gen_country.CountryLive != \"United States of America\"]\n",
    "\n",
    "# For USA Age data: split to female and male data\n",
    "data_male_age_usa = data_age_gender_usa[data_age_gender_usa.Gender == 'male'].Age\n",
    "data_fem_age_usa = data_age_gender_usa[data_age_gender_usa.Gender == 'female'].Age\n",
    "\n",
    "# For Other countries Age data: split to female and male data\n",
    "data_male_age_other = data_age_gender_other[data_age_gender_other.Gender == 'male'].Age\n",
    "data_fem_age_other = data_age_gender_other[data_age_gender_other.Gender == 'female'].Age\n",
    "\n",
    "# USA: Avg age  and std.dev by gender\n",
    "women_age_avg_usa = data_fem_age_usa.mean()\n",
    "men_age_avg_usa = data_male_age_usa.mean()\n",
    "difference_age_usa = women_age_avg_usa - men_age_avg_usa\n",
    "\n",
    "women_age_std_usa = data_fem_age_usa.std()\n",
    "men_age_std_usa = data_male_age_usa.std()\n",
    "\n",
    "tstat_usa, pval_usa = ttest_ind(data_male_age_usa, data_fem_age_usa, equal_var=False)\n",
    "\n",
    "# Other countries: Avg age and std.dev by gender\n",
    "women_age_avg_other = data_fem_age_other.mean()\n",
    "men_age_avg_other = data_male_age_other.mean()\n",
    "difference_age_other = women_age_avg_other - men_age_avg_other\n",
    "\n",
    "women_age_std_other = data_fem_age_other.std()\n",
    "men_age_std_other = data_male_age_other.std()\n",
    "\n",
    "tstat_other, pval_other = ttest_ind(data_male_age_other, data_fem_age_other, equal_var=False)\n",
    "\n",
    "\n",
    "# DF that holds all the calculated results\n",
    "age_country_stats = pd.DataFrame(\n",
    "[\n",
    "        [\"USA\",\n",
    "         round(women_age_avg_usa, 1),\n",
    "         round(women_age_std_usa, 1),\n",
    "         round(men_age_avg_usa, 1),\n",
    "         round(men_age_std_usa, 1),\n",
    "         round(difference_age_usa, 1),\n",
    "         round(tstat_usa, 1),\n",
    "         round(pval_usa, 4)\n",
    "        ],\n",
    "        [\"Other\",\n",
    "         round(women_age_avg_other, 1),\n",
    "         round(women_age_std_other, 1),\n",
    "         round(men_age_avg_other, 1),\n",
    "         round(men_age_std_other, 1),\n",
    "         round(difference_age_other, 1),\n",
    "         round(tstat_other, 1),\n",
    "         round(pval_other, 4)\n",
    "        ]\n",
    "],\n",
    "        columns=[\"Country\",\n",
    "                 \"Avg W age, yr\",\n",
    "                 \"Std\",\n",
    "                 \"Avg M age, yr\",\n",
    "                 \"Std, yr\",\n",
    "                 \"Diff, yr\",\n",
    "                 \"t-st\",\n",
    "                 \"p-val\"\n",
    "                 ]\n",
    ")\n",
    "\n",
    "print()\n",
    "print(\"Age by gender: USA vs the rest of the world\")\n",
    "print(\"------------------------------------------------\")\n",
    "print(age_country_stats)\n",
    "print()\n",
    "\n",
    "# Visualize Age distribution for men and women\n",
    "\n",
    "bins=np.arange(0, 80, 2)\n",
    "plt.figure(figsize=(10, 3))\n",
    "ax1 = plt.subplot(1, 2, 1)\n",
    "ax1.hist(data_male_age_usa, color='green', bins=bins, label=\"Male\")\n",
    "ax1.hist(data_fem_age_usa, color='purple', alpha = 0.5, bins=bins, label=\"Female\")\n",
    "ax1.set_title(\"Age distribution in USA\")\n",
    "ax1.set_xlabel(\"Age, years\")\n",
    "ax1.set_ylabel(\"Number of participant\")\n",
    "\n",
    "ax2 = plt.subplot(1, 2, 2)\n",
    "ax2.hist(data_male_age_other, color='green', bins=bins, label=\"Male\")\n",
    "ax2.hist(data_fem_age_other, color='purple', alpha = 0.5, bins=bins, label=\"Female\")\n",
    "ax2.set_title(\"Age distribution in the rest of the world\")\n",
    "ax2.set_xlabel(\"Age, years\")\n",
    "ax2.set_ylabel(\"Number of participant\")\n",
    "plt.legend()\n",
    "\n",
    "plt.show()\n",
    "\n",
    "########################################################\n",
    "# Investigate difference in income between men and women, USA vs other countries\n",
    "\n",
    "# Data <Gender, Income Country>: split to USA and Other countries\n",
    "data_inc_gender_usa = data_inc_gen_country[data_inc_gen_country.CountryLive == \"United States of America\"]\n",
    "data_inc_gender_other = data_inc_gen_country[data_inc_gen_country.CountryLive != \"United States of America\"]\n",
    "\n",
    "\n",
    "# For USA Income data: split to female and male data\n",
    "data_male_inc_usa = data_inc_gender_usa[data_inc_gender_usa.Gender == 'male'].Income\n",
    "data_fem_inc_usa = data_inc_gender_usa[data_inc_gender_usa.Gender == 'female'].Income\n",
    "\n",
    "# For Other countries Income data: split to female and male data\n",
    "data_male_inc_other = data_inc_gender_other[data_inc_gender_other.Gender == 'male'].Income\n",
    "data_fem_inc_other = data_inc_gender_other[data_inc_gender_other.Gender == 'female'].Income\n",
    "\n",
    "# USA: Avg Income and std.dev by gender\n",
    "women_inc_avg_usa = data_fem_inc_usa.mean()\n",
    "men_inc_avg_usa = data_male_inc_usa.mean()\n",
    "\n",
    "difference_inc_usa = men_inc_avg_usa - women_inc_avg_usa\n",
    "\n",
    "women_inc_std_usa = data_fem_inc_usa.std()\n",
    "men_inc_std_usa = data_male_inc_usa.std()\n",
    "\n",
    "tstat_usa, pval_usa = ttest_ind(data_male_inc_usa, data_fem_inc_usa, equal_var=False)\n",
    "\n",
    "# Other countries: Avg Income and std.dev by gender\n",
    "women_inc_avg_other = data_fem_inc_other.mean()\n",
    "men_inc_avg_other = data_male_inc_other.mean()\n",
    "\n",
    "difference_inc_other = men_inc_avg_other - women_inc_avg_other\n",
    "\n",
    "women_inc_std_other = data_fem_inc_other.std()\n",
    "men_inc_std_other = data_male_inc_other.std()\n",
    "\n",
    "tstat_other, pval_other = ttest_ind(data_male_inc_other, data_fem_inc_other, equal_var=False)\n",
    "\n",
    "\n",
    "# DF that holds all the calculated results\n",
    "inc_country_stats = pd.DataFrame(\n",
    "[\n",
    "        [\"USA\",\n",
    "         round(women_inc_avg_usa, 1),\n",
    "         round(women_inc_std_usa, 1),\n",
    "         round(men_inc_avg_usa, 1),\n",
    "         round(men_inc_std_usa, 1),\n",
    "         round(difference_inc_usa, 1),\n",
    "         round(tstat_usa, 1),\n",
    "         round(pval_usa, 4)\n",
    "        ],\n",
    "        [\"Other\",\n",
    "         round(women_inc_avg_other, 1),\n",
    "         round(women_inc_std_other, 1),\n",
    "         round(men_inc_avg_other, 1),\n",
    "         round(men_inc_std_other, 1),\n",
    "         round(difference_inc_other, 1),\n",
    "         round(tstat_other, 1),\n",
    "         round(pval_other, 4)\n",
    "        ]\n",
    "],\n",
    "        columns=[\"Country\",\n",
    "                 \"Avg W inc, $\",\n",
    "                 \"Std, $\",\n",
    "                 \"Avg M inc, $\",\n",
    "                 \"Std, $\",\n",
    "                 \"Diff, $\",\n",
    "                 \"t-st\",\n",
    "                 \"p-val\"\n",
    "                 ]\n",
    ")\n",
    "\n",
    "print()\n",
    "print(\"Income by gender: USA vs the rest of the world\")\n",
    "print(\"------------------------------------------------\")\n",
    "print(inc_country_stats)\n",
    "print()\n",
    "\n",
    "# Visualize Income distribution for men and women\n",
    "\n",
    "bins=np.arange(0, 200000, 5000)\n",
    "plt.figure(figsize=(10, 3))\n",
    "ax1 = plt.subplot(1, 2, 1)\n",
    "ax1.hist(data_male_inc_usa, color='green', bins=bins, label=\"Male\")\n",
    "ax1.hist(data_fem_inc_usa, color='purple', alpha = 0.5, bins=bins, label=\"Female\")\n",
    "ax1.set_title(\"Income distribution in USA\")\n",
    "ax1.set_xlabel(\"Income, USD\")\n",
    "ax1.set_ylabel(\"Number of participant\")\n",
    "\n",
    "ax2 = plt.subplot(1, 2, 2)\n",
    "ax2.hist(data_male_inc_other, color='green', bins=bins, label=\"Male\")\n",
    "ax2.hist(data_fem_inc_other, color='purple', alpha = 0.5, bins=bins, label=\"Female\")\n",
    "ax2.set_title(\"Income distribution in the rest of the world\")\n",
    "ax2.set_xlabel(\"Income, USD\")\n",
    "ax2.set_ylabel(\"Number of participant\")\n",
    "plt.legend()\n",
    "\n",
    "plt.show()\n"
   ]
  },
  {
   "cell_type": "markdown",
   "metadata": {},
   "source": [
    "* There is a significant difference in age and income for men and women who are actively learning to code in USA, as well as in the rest of the world"
   ]
  },
  {
   "cell_type": "markdown",
   "metadata": {},
   "source": [
    "## Reformatting and/or Rescaling Data"
   ]
  },
  {
   "cell_type": "markdown",
   "metadata": {},
   "source": [
    "* Creating a new column \"gender_num\" which is based on the \"Gender\" column:\n",
    "   * if \"Gender\" is \"male\" -> \"gender_num\" is '1'\n",
    "   * if \"Gender\" is \"female\" -> \"gender_num\" is '0'\n",
    "   * \"gender_num\" is 'nan' for other \"Gender\" values"
   ]
  },
  {
   "cell_type": "code",
   "execution_count": null,
   "metadata": {
    "collapsed": true
   },
   "outputs": [],
   "source": [
    "def gender_to_number(x):\n",
    "    \"\"\"Return '1' for 'male', '0' for 'female', 'nan' otherwise.\"\"\"\n",
    "    if x.Gender == 'male':\n",
    "        return 1\n",
    "    elif x.Gender == 'female':\n",
    "        return 0\n",
    "\n",
    "data[\"gender_num\"] = [gender_to_number(data.loc[i]) for i in range(len(data))]"
   ]
  },
  {
   "cell_type": "markdown",
   "metadata": {},
   "source": [
    "## Data Modeling"
   ]
  },
  {
   "cell_type": "code",
   "execution_count": null,
   "metadata": {
    "collapsed": true
   },
   "outputs": [],
   "source": []
  }
 ],
 "metadata": {
  "kernelspec": {
   "display_name": "Python 3",
   "language": "python",
   "name": "python3"
  },
  "language_info": {
   "codemirror_mode": {
    "name": "ipython",
    "version": 3
   },
   "file_extension": ".py",
   "mimetype": "text/x-python",
   "name": "python",
   "nbconvert_exporter": "python",
   "pygments_lexer": "ipython3",
   "version": "3.5.1"
  }
 },
 "nbformat": 4,
 "nbformat_minor": 1
}
