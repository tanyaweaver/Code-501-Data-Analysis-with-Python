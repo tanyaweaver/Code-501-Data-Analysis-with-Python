{
 "cells": [
  {
   "cell_type": "code",
   "execution_count": 119,
   "metadata": {
    "collapsed": true
   },
   "outputs": [],
   "source": [
    "import pandas as pd\n",
    "import numpy as np\n",
    "from scipy.stats import ttest_ind\n",
    "import matplotlib.pyplot as plt\n",
    "from sklearn.preprocessing import MinMaxScaler\n",
    "from sklearn.neighbors import KNeighborsClassifier as KN\n",
    "from sklearn.model_selection import train_test_split\n",
    "from sklearn.metrics import accuracy_score as a_s\n",
    "from sklearn.model_selection import KFold"
   ]
  },
  {
   "cell_type": "code",
   "execution_count": 375,
   "metadata": {
    "collapsed": false
   },
   "outputs": [],
   "source": [
    "data = pd.read_csv(\"2016-FCC-New-Coders-Survey-Data.csv\", low_memory=False)"
   ]
  },
  {
   "cell_type": "code",
   "execution_count": 18,
   "metadata": {
    "collapsed": false
   },
   "outputs": [
    {
     "data": {
      "text/plain": [
       "15620"
      ]
     },
     "execution_count": 18,
     "metadata": {},
     "output_type": "execute_result"
    }
   ],
   "source": [
    "len(data)"
   ]
  },
  {
   "cell_type": "code",
   "execution_count": 6,
   "metadata": {
    "collapsed": false
   },
   "outputs": [
    {
     "data": {
      "text/plain": [
       "Index(['Age', 'AttendedBootcamp', 'BootcampFinish', 'BootcampFullJobAfter',\n",
       "       'BootcampLoanYesNo', 'BootcampMonthsAgo', 'BootcampName',\n",
       "       'BootcampPostSalary', 'BootcampRecommend', 'ChildrenNumber',\n",
       "       'CityPopulation', 'CodeEventBootcamp', 'CodeEventCoffee',\n",
       "       'CodeEventConferences', 'CodeEventDjangoGirls', 'CodeEventGameJam',\n",
       "       'CodeEventGirlDev', 'CodeEventHackathons', 'CodeEventMeetup',\n",
       "       'CodeEventNodeSchool', 'CodeEventNone', 'CodeEventOther',\n",
       "       'CodeEventRailsBridge', 'CodeEventRailsGirls'],\n",
       "      dtype='object')"
      ]
     },
     "execution_count": 6,
     "metadata": {},
     "output_type": "execute_result"
    }
   ],
   "source": [
    "data.columns[:24]"
   ]
  },
  {
   "cell_type": "code",
   "execution_count": 7,
   "metadata": {
    "collapsed": false
   },
   "outputs": [
    {
     "data": {
      "text/plain": [
       "Index(['CodeEventStartUpWknd', 'CodeEventWomenCode', 'CodeEventWorkshop',\n",
       "       'CommuteTime', 'CountryCitizen', 'CountryLive', 'EmploymentField',\n",
       "       'EmploymentFieldOther', 'EmploymentStatus', 'EmploymentStatusOther',\n",
       "       'ExpectedEarning', 'FinanciallySupporting', 'Gender', 'HasChildren',\n",
       "       'HasDebt', 'HasFinancialDependents', 'HasHighSpdInternet',\n",
       "       'HasHomeMortgage', 'HasServedInMilitary', 'HasStudentDebt',\n",
       "       'HomeMortgageOwe', 'HoursLearning', 'ID.x', 'ID.y', 'Income',\n",
       "       'IsEthnicMinority', 'IsReceiveDiabilitiesBenefits', 'IsSoftwareDev',\n",
       "       'IsUnderEmployed', 'JobApplyWhen', 'JobPref', 'JobRelocateYesNo',\n",
       "       'JobRoleInterest', 'JobRoleInterestOther', 'JobWherePref',\n",
       "       'LanguageAtHome', 'MaritalStatus', 'MoneyForLearning',\n",
       "       'MonthsProgramming', 'NetworkID', 'Part1EndTime', 'Part1StartTime',\n",
       "       'Part2EndTime', 'Part2StartTime', 'PodcastChangeLog',\n",
       "       'PodcastCodeNewbie', 'PodcastCodingBlocks', 'PodcastDeveloperTea',\n",
       "       'PodcastDotNetRocks', 'PodcastHanselminutes', 'PodcastJSJabber',\n",
       "       'PodcastJsAir', 'PodcastNone', 'PodcastOther',\n",
       "       'PodcastProgrammingThrowDown', 'PodcastRubyRogues', 'PodcastSEDaily',\n",
       "       'PodcastShopTalk', 'PodcastTalkPython', 'PodcastWebAhead',\n",
       "       'ResourceBlogs', 'ResourceBooks', 'ResourceCodeWars',\n",
       "       'ResourceCodecademy', 'ResourceCoursera', 'ResourceDevTips',\n",
       "       'ResourceEdX', 'ResourceEggHead', 'ResourceFCC', 'ResourceGoogle',\n",
       "       'ResourceHackerRank', 'ResourceKhanAcademy', 'ResourceLynda',\n",
       "       'ResourceMDN', 'ResourceOdinProj', 'ResourceOther',\n",
       "       'ResourcePluralSight', 'ResourceReddit', 'ResourceSkillCrush',\n",
       "       'ResourceSoloLearn', 'ResourceStackOverflow', 'ResourceTreehouse',\n",
       "       'ResourceUdacity', 'ResourceUdemy', 'ResourceW3Schools',\n",
       "       'ResourceYouTube', 'SchoolDegree', 'SchoolMajor', 'StudentDebtOwe'],\n",
       "      dtype='object')"
      ]
     },
     "execution_count": 7,
     "metadata": {},
     "output_type": "execute_result"
    }
   ],
   "source": [
    "data.columns[24:]"
   ]
  },
  {
   "cell_type": "code",
   "execution_count": 10,
   "metadata": {
    "collapsed": false
   },
   "outputs": [
    {
     "data": {
      "text/plain": [
       "953"
      ]
     },
     "execution_count": 10,
     "metadata": {},
     "output_type": "execute_result"
    }
   ],
   "source": [
    "len(data.AttendedBootcamp[data.AttendedBootcamp == True])"
   ]
  },
  {
   "cell_type": "code",
   "execution_count": 129,
   "metadata": {
    "collapsed": true
   },
   "outputs": [],
   "source": [
    "def gender_to_number(x):\n",
    "    if x.Gender == 'male':\n",
    "        return 1\n",
    "    elif x.Gender == 'female':\n",
    "        return 0"
   ]
  },
  {
   "cell_type": "code",
   "execution_count": 184,
   "metadata": {
    "collapsed": false
   },
   "outputs": [
    {
     "data": {
      "text/plain": [
       "array(['between 100,000 and 1 million', 'more than 1 million',\n",
       "       'less than 100,000', nan], dtype=object)"
      ]
     },
     "execution_count": 184,
     "metadata": {},
     "output_type": "execute_result"
    }
   ],
   "source": [
    "data.CityPopulation.unique()"
   ]
  },
  {
   "cell_type": "code",
   "execution_count": 185,
   "metadata": {
    "collapsed": true
   },
   "outputs": [],
   "source": [
    "def city_to_number(x):\n",
    "    if x.CityPopulation == 'less than 100,000':\n",
    "        return 1\n",
    "    elif x.CityPopulation == 'between 100,000 and 1 million':\n",
    "        return 2\n",
    "    elif x.CityPopulation == 'more than 1 million':\n",
    "        return 3"
   ]
  },
  {
   "cell_type": "code",
   "execution_count": 380,
   "metadata": {
    "collapsed": false
   },
   "outputs": [],
   "source": [
    "data[\"gender_num\"] = [gender_to_number(data.loc[i]) for i in range(len(data))]"
   ]
  },
  {
   "cell_type": "code",
   "execution_count": 186,
   "metadata": {
    "collapsed": true
   },
   "outputs": [],
   "source": [
    "data[\"city_size\"] = [city_to_number(data.loc[i]) for i in range(len(data))]"
   ]
  },
  {
   "cell_type": "code",
   "execution_count": 187,
   "metadata": {
    "collapsed": false
   },
   "outputs": [
    {
     "name": "stdout",
     "output_type": "stream",
     "text": [
      "3155\n",
      "4917\n",
      "5558\n"
     ]
    }
   ],
   "source": [
    "print(len(data[data.city_size == 1]))\n",
    "print(len(data[data.city_size == 2]))\n",
    "print(len(data[data.city_size == 3]))"
   ]
  },
  {
   "cell_type": "code",
   "execution_count": 190,
   "metadata": {
    "collapsed": false
   },
   "outputs": [
    {
     "data": {
      "text/plain": [
       "7129"
      ]
     },
     "execution_count": 190,
     "metadata": {},
     "output_type": "execute_result"
    }
   ],
   "source": [
    "data_gender = data[(data[\"Gender\"] == 'male') | (data[\"Gender\"] == 'female')]\n",
    "len(data1)"
   ]
  },
  {
   "cell_type": "code",
   "execution_count": 192,
   "metadata": {
    "collapsed": false
   },
   "outputs": [
    {
     "data": {
      "image/png": "[encoded data removed]",
      "text/plain": [
       "<matplotlib.figure.Figure at 0x10c0dfa58>"
      ]
     },
     "metadata": {},
     "output_type": "display_data"
    }
   ],
   "source": [
    "data1 = data_gender[[\"gender_num\", \"Income\", \"MonthsProgramming\", \"city_size\"]].dropna()\n",
    "len(data1)\n",
    "\n",
    "x = data1.Income\n",
    "y = data1.gender_num\n",
    "plt.scatter(x, y)\n",
    "plt.show()"
   ]
  },
  {
   "cell_type": "code",
   "execution_count": 153,
   "metadata": {
    "collapsed": false
   },
   "outputs": [
    {
     "name": "stdout",
     "output_type": "stream",
     "text": [
      "4191\n"
     ]
    },
    {
     "data": {
      "image/png": "[encoded data removed]",
      "text/plain": [
       "<matplotlib.figure.Figure at 0x10956a278>"
      ]
     },
     "metadata": {},
     "output_type": "display_data"
    }
   ],
   "source": [
    "data_month_prog_less_36 = data1[data1.MonthsProgramming <= 12]\n",
    "print(len(data_month_prog_less_36))\n",
    "\n",
    "x = data_month_prog_less_36.Income\n",
    "y = data_month_prog_less_36.gender_num\n",
    "plt.scatter(x, y)\n",
    "plt.show()"
   ]
  },
  {
   "cell_type": "code",
   "execution_count": 156,
   "metadata": {
    "collapsed": false
   },
   "outputs": [
    {
     "name": "stdout",
     "output_type": "stream",
     "text": [
      "4191\n"
     ]
    },
    {
     "data": {
      "image/png": "[encoded data removed]",
      "text/plain": [
       "<matplotlib.figure.Figure at 0x1025886a0>"
      ]
     },
     "metadata": {},
     "output_type": "display_data"
    }
   ],
   "source": [
    "data_month = data1[data1.MonthsProgramming <= 24]\n",
    "print(len(data_month_prog_less_36))\n",
    "x = data_month.MonthsProgramming\n",
    "y = data_month.Income\n",
    "plt.scatter(x, y)\n",
    "plt.show()"
   ]
  },
  {
   "cell_type": "code",
   "execution_count": 196,
   "metadata": {
    "collapsed": false
   },
   "outputs": [
    {
     "data": {
      "image/png": "[encoded data removed]",
      "text/plain": [
       "<matplotlib.figure.Figure at 0x10bf78e48>"
      ]
     },
     "metadata": {},
     "output_type": "display_data"
    }
   ],
   "source": [
    "\n",
    "\n",
    "x = data1.MonthsProgramming\n",
    "y = data1.gender_num\n",
    "plt.scatter(x, y)\n",
    "plt.show()"
   ]
  },
  {
   "cell_type": "code",
   "execution_count": 47,
   "metadata": {
    "collapsed": false
   },
   "outputs": [
    {
     "data": {
      "text/plain": [
       "array([ nan,   0.,   1.])"
      ]
     },
     "execution_count": 47,
     "metadata": {},
     "output_type": "execute_result"
    }
   ],
   "source": [
    "data.BootcampFullJobAfter.unique()"
   ]
  },
  {
   "cell_type": "code",
   "execution_count": 193,
   "metadata": {
    "collapsed": false
   },
   "outputs": [
    {
     "data": {
      "text/plain": [
       "635"
      ]
     },
     "execution_count": 193,
     "metadata": {},
     "output_type": "execute_result"
    }
   ],
   "source": [
    "len(data.BootcampFullJobAfter[(data.BootcampFullJobAfter == 1.0) | (data.BootcampFullJobAfter == 0.0)])"
   ]
  },
  {
   "cell_type": "code",
   "execution_count": 52,
   "metadata": {
    "collapsed": false
   },
   "outputs": [
    {
     "data": {
      "text/plain": [
       "602"
      ]
     },
     "execution_count": 52,
     "metadata": {},
     "output_type": "execute_result"
    }
   ],
   "source": [
    "len(data.BootcampMonthsAgo[data.BootcampMonthsAgo > 0])"
   ]
  },
  {
   "cell_type": "code",
   "execution_count": 53,
   "metadata": {
    "collapsed": false
   },
   "outputs": [
    {
     "data": {
      "text/plain": [
       "array([nan, 'Within the next 6 months', \"I haven't decided\",\n",
       "       \"I'm already applying\", 'more than 12 months from now',\n",
       "       'Within 7 to 12 months'], dtype=object)"
      ]
     },
     "execution_count": 53,
     "metadata": {},
     "output_type": "execute_result"
    }
   ],
   "source": [
    "data.JobApplyWhen.unique()"
   ]
  },
  {
   "cell_type": "code",
   "execution_count": 54,
   "metadata": {
    "collapsed": false
   },
   "outputs": [
    {
     "data": {
      "text/plain": [
       "array(['Employed for wages', 'Self-employed freelancer',\n",
       "       'Self-employed business owner',\n",
       "       'Not working and not looking for work',\n",
       "       'Not working but looking for work', 'Doing an unpaid internship',\n",
       "       'A stay-at-home parent or homemaker', nan, 'Military',\n",
       "       'Unable to work', 'Retired'], dtype=object)"
      ]
     },
     "execution_count": 54,
     "metadata": {},
     "output_type": "execute_result"
    }
   ],
   "source": [
    "data.EmploymentStatus.unique()"
   ]
  },
  {
   "cell_type": "code",
   "execution_count": 63,
   "metadata": {
    "collapsed": false
   },
   "outputs": [
    {
     "data": {
      "text/plain": [
       "array([ nan,   1.,   0.])"
      ]
     },
     "execution_count": 63,
     "metadata": {},
     "output_type": "execute_result"
    }
   ],
   "source": [
    "data.BootcampFinish.unique()"
   ]
  },
  {
   "cell_type": "code",
   "execution_count": 64,
   "metadata": {
    "collapsed": false
   },
   "outputs": [
    {
     "data": {
      "text/plain": [
       "933"
      ]
     },
     "execution_count": 64,
     "metadata": {},
     "output_type": "execute_result"
    }
   ],
   "source": [
    "len(data.BootcampFinish[(data.BootcampFinish == 1.0) | (data.BootcampFinish == 0.0)])"
   ]
  },
  {
   "cell_type": "code",
   "execution_count": 70,
   "metadata": {
    "collapsed": false
   },
   "outputs": [
    {
     "data": {
      "text/plain": [
       "330"
      ]
     },
     "execution_count": 70,
     "metadata": {},
     "output_type": "execute_result"
    }
   ],
   "source": [
    "len(data.BootcampPostSalary[data.BootcampPostSalary > 0])"
   ]
  },
  {
   "cell_type": "code",
   "execution_count": 78,
   "metadata": {
    "collapsed": true
   },
   "outputs": [],
   "source": [
    "data3 = data[[\"CityPopulation\", \"BootcampFullJobAfter\"]].dropna()"
   ]
  },
  {
   "cell_type": "code",
   "execution_count": 88,
   "metadata": {
    "collapsed": false
   },
   "outputs": [],
   "source": [
    "#x = data3.CityPopulation\n",
    "#y = data3.BootcampPostSalary\n",
    "#plt.scatter(x, y)\n",
    "#plt.show()"
   ]
  },
  {
   "cell_type": "code",
   "execution_count": 109,
   "metadata": {
    "collapsed": false
   },
   "outputs": [],
   "source": [
    "data4 = data[[\"Gender\", \"Income\"]].dropna()"
   ]
  },
  {
   "cell_type": "code",
   "execution_count": 93,
   "metadata": {
    "collapsed": false
   },
   "outputs": [
    {
     "data": {
      "text/plain": [
       "7288"
      ]
     },
     "execution_count": 93,
     "metadata": {},
     "output_type": "execute_result"
    }
   ],
   "source": [
    "len(data4)"
   ]
  },
  {
   "cell_type": "code",
   "execution_count": 110,
   "metadata": {
    "collapsed": false
   },
   "outputs": [
    {
     "data": {
      "text/plain": [
       "array(['male', 'female', nan, 'genderqueer', 'agender', 'trans'], dtype=object)"
      ]
     },
     "execution_count": 110,
     "metadata": {},
     "output_type": "execute_result"
    }
   ],
   "source": [
    "data.Gender.unique()"
   ]
  },
  {
   "cell_type": "code",
   "execution_count": 111,
   "metadata": {
    "collapsed": false
   },
   "outputs": [],
   "source": [
    "data4_1 = data4[data4[\"Gender\"] == 'male']"
   ]
  },
  {
   "cell_type": "code",
   "execution_count": 112,
   "metadata": {
    "collapsed": false
   },
   "outputs": [
    {
     "data": {
      "text/plain": [
       "5815"
      ]
     },
     "execution_count": 112,
     "metadata": {},
     "output_type": "execute_result"
    }
   ],
   "source": [
    "len(data4_1)"
   ]
  },
  {
   "cell_type": "code",
   "execution_count": 113,
   "metadata": {
    "collapsed": true
   },
   "outputs": [],
   "source": [
    "data4_0 = data4[data4[\"Gender\"] == 'female']"
   ]
  },
  {
   "cell_type": "code",
   "execution_count": 114,
   "metadata": {
    "collapsed": false
   },
   "outputs": [
    {
     "data": {
      "text/plain": [
       "1429"
      ]
     },
     "execution_count": 114,
     "metadata": {},
     "output_type": "execute_result"
    }
   ],
   "source": [
    "len(data4_0)"
   ]
  },
  {
   "cell_type": "code",
   "execution_count": 115,
   "metadata": {
    "collapsed": false
   },
   "outputs": [
    {
     "data": {
      "image/png": "[encoded data removed]",
      "text/plain": [
       "<matplotlib.figure.Figure at 0x10c1e5be0>"
      ]
     },
     "metadata": {},
     "output_type": "display_data"
    }
   ],
   "source": [
    "plt.figure(figsize=(3, 3))\n",
    "plt.hist(data4_1.Income, bins=np.arange(0, 200000, 5000))\n",
    "plt.title(\"Male\")\n",
    "plt.show()"
   ]
  },
  {
   "cell_type": "code",
   "execution_count": 116,
   "metadata": {
    "collapsed": false
   },
   "outputs": [
    {
     "data": {
      "image/png": "[encoded data removed]",
      "text/plain": [
       "<matplotlib.figure.Figure at 0x10c060438>"
      ]
     },
     "metadata": {},
     "output_type": "display_data"
    }
   ],
   "source": [
    "plt.figure(figsize=(3, 3))\n",
    "plt.hist(data4_0.Income, bins=np.arange(0, 200000, 5000))\n",
    "plt.title(\"Female\")\n",
    "plt.show()"
   ]
  },
  {
   "cell_type": "code",
   "execution_count": 117,
   "metadata": {
    "collapsed": false
   },
   "outputs": [
    {
     "data": {
      "text/html": [
       "<div>\n",
       "<table border=\"1\" class=\"dataframe\">\n",
       "  <thead>\n",
       "    <tr style=\"text-align: right;\">\n",
       "      <th></th>\n",
       "      <th>Income</th>\n",
       "    </tr>\n",
       "  </thead>\n",
       "  <tbody>\n",
       "    <tr>\n",
       "      <th>count</th>\n",
       "      <td>5815.000000</td>\n",
       "    </tr>\n",
       "    <tr>\n",
       "      <th>mean</th>\n",
       "      <td>45520.715391</td>\n",
       "    </tr>\n",
       "    <tr>\n",
       "      <th>std</th>\n",
       "      <td>36918.883898</td>\n",
       "    </tr>\n",
       "    <tr>\n",
       "      <th>min</th>\n",
       "      <td>6000.000000</td>\n",
       "    </tr>\n",
       "    <tr>\n",
       "      <th>25%</th>\n",
       "      <td>20000.000000</td>\n",
       "    </tr>\n",
       "    <tr>\n",
       "      <th>50%</th>\n",
       "      <td>36000.000000</td>\n",
       "    </tr>\n",
       "    <tr>\n",
       "      <th>75%</th>\n",
       "      <td>60000.000000</td>\n",
       "    </tr>\n",
       "    <tr>\n",
       "      <th>max</th>\n",
       "      <td>200000.000000</td>\n",
       "    </tr>\n",
       "  </tbody>\n",
       "</table>\n",
       "</div>"
      ],
      "text/plain": [
       "              Income\n",
       "count    5815.000000\n",
       "mean    45520.715391\n",
       "std     36918.883898\n",
       "min      6000.000000\n",
       "25%     20000.000000\n",
       "50%     36000.000000\n",
       "75%     60000.000000\n",
       "max    200000.000000"
      ]
     },
     "execution_count": 117,
     "metadata": {},
     "output_type": "execute_result"
    }
   ],
   "source": [
    "data4_1.describe()"
   ]
  },
  {
   "cell_type": "code",
   "execution_count": 118,
   "metadata": {
    "collapsed": false
   },
   "outputs": [
    {
     "data": {
      "text/html": [
       "<div>\n",
       "<table border=\"1\" class=\"dataframe\">\n",
       "  <thead>\n",
       "    <tr style=\"text-align: right;\">\n",
       "      <th></th>\n",
       "      <th>Income</th>\n",
       "    </tr>\n",
       "  </thead>\n",
       "  <tbody>\n",
       "    <tr>\n",
       "      <th>count</th>\n",
       "      <td>1429.000000</td>\n",
       "    </tr>\n",
       "    <tr>\n",
       "      <th>mean</th>\n",
       "      <td>42982.739678</td>\n",
       "    </tr>\n",
       "    <tr>\n",
       "      <th>std</th>\n",
       "      <td>29822.084583</td>\n",
       "    </tr>\n",
       "    <tr>\n",
       "      <th>min</th>\n",
       "      <td>6000.000000</td>\n",
       "    </tr>\n",
       "    <tr>\n",
       "      <th>25%</th>\n",
       "      <td>22800.000000</td>\n",
       "    </tr>\n",
       "    <tr>\n",
       "      <th>50%</th>\n",
       "      <td>38000.000000</td>\n",
       "    </tr>\n",
       "    <tr>\n",
       "      <th>75%</th>\n",
       "      <td>56000.000000</td>\n",
       "    </tr>\n",
       "    <tr>\n",
       "      <th>max</th>\n",
       "      <td>200000.000000</td>\n",
       "    </tr>\n",
       "  </tbody>\n",
       "</table>\n",
       "</div>"
      ],
      "text/plain": [
       "              Income\n",
       "count    1429.000000\n",
       "mean    42982.739678\n",
       "std     29822.084583\n",
       "min      6000.000000\n",
       "25%     22800.000000\n",
       "50%     38000.000000\n",
       "75%     56000.000000\n",
       "max    200000.000000"
      ]
     },
     "execution_count": 118,
     "metadata": {},
     "output_type": "execute_result"
    }
   ],
   "source": [
    "data4_0.describe()"
   ]
  },
  {
   "cell_type": "code",
   "execution_count": 120,
   "metadata": {
    "collapsed": false
   },
   "outputs": [
    {
     "name": "stdout",
     "output_type": "stream",
     "text": [
      "2.7419435239 0.00614926735042\n"
     ]
    }
   ],
   "source": [
    "tstat, pval = ttest_ind(data4_1.Income, data4_0.Income, equal_var=False)\n",
    "print(tstat, pval)"
   ]
  },
  {
   "cell_type": "code",
   "execution_count": 157,
   "metadata": {
    "collapsed": false
   },
   "outputs": [
    {
     "data": {
      "text/plain": [
       "array(['some college credit, no degree',\n",
       "       'high school diploma or equivalent (GED)', \"bachelor's degree\",\n",
       "       \"master's degree (non-professional)\",\n",
       "       'professional degree (MBA, MD, JD, etc.)',\n",
       "       'trade, technical, or vocational training', \"associate's degree\",\n",
       "       'some high school', nan, 'Ph.D.',\n",
       "       'no high school (secondary school)'], dtype=object)"
      ]
     },
     "execution_count": 157,
     "metadata": {},
     "output_type": "execute_result"
    }
   ],
   "source": [
    "data.SchoolDegree.unique()"
   ]
  },
  {
   "cell_type": "code",
   "execution_count": 175,
   "metadata": {
    "collapsed": true
   },
   "outputs": [],
   "source": [
    "data_dev = data[[\"MonthsProgramming\", \"IsSoftwareDev\", \"gender_num\"]].dropna()"
   ]
  },
  {
   "cell_type": "code",
   "execution_count": 182,
   "metadata": {
    "collapsed": false
   },
   "outputs": [
    {
     "data": {
      "text/plain": [
       "248"
      ]
     },
     "execution_count": 182,
     "metadata": {},
     "output_type": "execute_result"
    }
   ],
   "source": [
    "len(data_dev[(data_dev.IsSoftwareDev == 1.0) & (data.MonthsProgramming < 6)& (data.gender_num == 1)])"
   ]
  },
  {
   "cell_type": "code",
   "execution_count": 181,
   "metadata": {
    "collapsed": false
   },
   "outputs": [
    {
     "data": {
      "text/plain": [
       "7019"
      ]
     },
     "execution_count": 181,
     "metadata": {},
     "output_type": "execute_result"
    }
   ],
   "source": [
    "len(data_dev[data_dev.MonthsProgramming < 12])"
   ]
  },
  {
   "cell_type": "code",
   "execution_count": 209,
   "metadata": {
    "collapsed": false
   },
   "outputs": [
    {
     "data": {
      "text/plain": [
       "0.134185303514377"
      ]
     },
     "execution_count": 209,
     "metadata": {},
     "output_type": "execute_result"
    }
   ],
   "source": [
    "a = len(data[(data.CodeEventMeetup == 1) & (data.AttendedBootcamp == 1)])\n",
    "b = len(data[(data.CodeEventMeetup == 1)]) \n",
    "a / b\n"
   ]
  },
  {
   "cell_type": "code",
   "execution_count": 210,
   "metadata": {
    "collapsed": false
   },
   "outputs": [
    {
     "data": {
      "text/plain": [
       "0.865814696485623"
      ]
     },
     "execution_count": 210,
     "metadata": {},
     "output_type": "execute_result"
    }
   ],
   "source": [
    "a = len(data[(data.CodeEventMeetup == 1) & (data.AttendedBootcamp == 0)])\n",
    "b = len(data[data.CodeEventMeetup == 1])\n",
    "a / b"
   ]
  },
  {
   "cell_type": "code",
   "execution_count": 211,
   "metadata": {
    "collapsed": true
   },
   "outputs": [],
   "source": [
    "events = []\n",
    "for col in data.columns:\n",
    "    if col.startswith(\"CodeEvent\"):\n",
    "        events.append(col)"
   ]
  },
  {
   "cell_type": "code",
   "execution_count": 214,
   "metadata": {
    "collapsed": false
   },
   "outputs": [
    {
     "name": "stdout",
     "output_type": "stream",
     "text": [
      "['CodeEventBootcamp', 'CodeEventCoffee', 'CodeEventConferences', 'CodeEventDjangoGirls', 'CodeEventGameJam', 'CodeEventGirlDev', 'CodeEventHackathons', 'CodeEventMeetup', 'CodeEventNodeSchool', 'CodeEventNone', 'CodeEventOther', 'CodeEventRailsBridge', 'CodeEventRailsGirls', 'CodeEventStartUpWknd', 'CodeEventWomenCode', 'CodeEventWorkshop'] 16\n"
     ]
    }
   ],
   "source": [
    "print(events, len(events))"
   ]
  },
  {
   "cell_type": "code",
   "execution_count": 225,
   "metadata": {
    "collapsed": false
   },
   "outputs": [],
   "source": [
    "data_events = data[events]"
   ]
  },
  {
   "cell_type": "code",
   "execution_count": 227,
   "metadata": {
    "collapsed": true
   },
   "outputs": [],
   "source": [
    "def attend_events(x):\n",
    "    if x.any() == 1:\n",
    "        return 1\n",
    "    else:\n",
    "        return 0"
   ]
  },
  {
   "cell_type": "code",
   "execution_count": 239,
   "metadata": {
    "collapsed": false
   },
   "outputs": [],
   "source": [
    "event_column = [attend_events(data_events.loc[i]) for i in range(len(data_events))]"
   ]
  },
  {
   "cell_type": "code",
   "execution_count": 241,
   "metadata": {
    "collapsed": false
   },
   "outputs": [
    {
     "data": {
      "text/plain": [
       "14736"
      ]
     },
     "execution_count": 241,
     "metadata": {},
     "output_type": "execute_result"
    }
   ],
   "source": [
    "event_column.count(1)"
   ]
  },
  {
   "cell_type": "code",
   "execution_count": 245,
   "metadata": {
    "collapsed": false
   },
   "outputs": [
    {
     "data": {
      "text/plain": [
       "15620"
      ]
     },
     "execution_count": 245,
     "metadata": {},
     "output_type": "execute_result"
    }
   ],
   "source": [
    "len(data_events)"
   ]
  },
  {
   "cell_type": "code",
   "execution_count": 247,
   "metadata": {
    "collapsed": false
   },
   "outputs": [],
   "source": [
    "data[\"attend_events\"] = event_column"
   ]
  },
  {
   "cell_type": "code",
   "execution_count": 252,
   "metadata": {
    "collapsed": false
   },
   "outputs": [
    {
     "name": "stdout",
     "output_type": "stream",
     "text": [
      "0.9387323943661972\n"
     ]
    }
   ],
   "source": [
    "fem_event = data[data.Gender == 'female']\n",
    "\n",
    "fem_attend_event = len(fem_event[fem_event.attend_events == 1]) / len(fem_event)\n",
    "print(fem_attend_event)"
   ]
  },
  {
   "cell_type": "code",
   "execution_count": 254,
   "metadata": {
    "collapsed": false
   },
   "outputs": [
    {
     "name": "stdout",
     "output_type": "stream",
     "text": [
      "0.9483559353520342\n"
     ]
    }
   ],
   "source": [
    "male_event = data[data.Gender == 'male']\n",
    "\n",
    "male_attend_event = len(male_event[male_event.attend_events == 1]) / len(male_event)\n",
    "print(male_attend_event)"
   ]
  },
  {
   "cell_type": "code",
   "execution_count": 259,
   "metadata": {
    "collapsed": false
   },
   "outputs": [
    {
     "name": "stdout",
     "output_type": "stream",
     "text": [
      "0.9468085106382979\n"
     ]
    },
    {
     "name": "stderr",
     "output_type": "stream",
     "text": [
      "/Users/tatianaphillips/cf/501/lib/python3.5/site-packages/ipykernel/__main__.py:3: UserWarning: Boolean Series key will be reindexed to match DataFrame index.\n",
      "  app.launch_new_instance()\n"
     ]
    }
   ],
   "source": [
    "bc_all = data[[\"AttendedBootcamp\", \"attend_events\"]].dropna()\n",
    "bc_all = bc_all.reset_index(drop=True)\n",
    "bc_event = bc_all[data.AttendedBootcamp == 1]\n",
    "bc_attend_event = len(bc_event[bc_event.attend_events == 1]) / len(bc_event)\n",
    "print(bc_attend_event)"
   ]
  },
  {
   "cell_type": "markdown",
   "metadata": {},
   "source": [
    "### 4% of men attended bc, and 11% of women"
   ]
  },
  {
   "cell_type": "markdown",
   "metadata": {},
   "source": [
    "### country live vs gender"
   ]
  },
  {
   "cell_type": "code",
   "execution_count": 364,
   "metadata": {
    "collapsed": false
   },
   "outputs": [
    {
     "name": "stdout",
     "output_type": "stream",
     "text": [
      "0.41127741692553893\n"
     ]
    }
   ],
   "source": [
    "gender_all = data[[\"CountryLive\", \"gender_num\"]].dropna()\n",
    "gender_all = gender_all.reset_index(drop=True)\n",
    "gender_men = gender_all[gender_all.gender_num == 1]\n",
    "men_usa = len(gender_men[gender_men.CountryLive == \"United States of America\"]) / len(gender_men)\n",
    "print(men_usa)"
   ]
  },
  {
   "cell_type": "code",
   "execution_count": 366,
   "metadata": {
    "collapsed": false
   },
   "outputs": [
    {
     "name": "stdout",
     "output_type": "stream",
     "text": [
      "0.6362986780993212\n"
     ]
    }
   ],
   "source": [
    "gender_fem = gender_all[gender_all.gender_num == 0]\n",
    "fem_usa = len(gender_fem[gender_fem.CountryLive == \"United States of America\"]) / len(gender_fem)\n",
    "print(fem_usa)"
   ]
  },
  {
   "cell_type": "markdown",
   "metadata": {},
   "source": [
    "### age vs gender"
   ]
  },
  {
   "cell_type": "code",
   "execution_count": 292,
   "metadata": {
    "collapsed": false
   },
   "outputs": [
    {
     "name": "stdout",
     "output_type": "stream",
     "text": [
      "1.0\n"
     ]
    }
   ],
   "source": [
    "gender_al = data[[\"CodeEventMeetup\", \"gender_num\"]].dropna()\n",
    "gender_al = gender_al.reset_index(drop=True)\n",
    "gender_men = gender_al[gender_al.gender_num == 1]\n",
    "men_attend_bc = len(gender_men[gender_men.CodeEventMeetup == 1]) / len(gender_men)\n",
    "print(men_attend_bc)"
   ]
  },
  {
   "cell_type": "code",
   "execution_count": 293,
   "metadata": {
    "collapsed": false
   },
   "outputs": [
    {
     "data": {
      "text/plain": [
       "313"
      ]
     },
     "execution_count": 293,
     "metadata": {},
     "output_type": "execute_result"
    }
   ],
   "source": [
    "len(data[data.CodeEventMeetup == 1])"
   ]
  },
  {
   "cell_type": "code",
   "execution_count": 272,
   "metadata": {
    "collapsed": false
   },
   "outputs": [
    {
     "name": "stdout",
     "output_type": "stream",
     "text": [
      "0.1147887323943662\n"
     ]
    }
   ],
   "source": [
    "data_city = data[data.gender_num == 0]\n",
    "city_attend_event = len(data_city[data_city.AttendedBootcamp == 1]) / len(data_city)\n",
    "print(city_attend_event)"
   ]
  },
  {
   "cell_type": "code",
   "execution_count": 269,
   "metadata": {
    "collapsed": false
   },
   "outputs": [
    {
     "name": "stdout",
     "output_type": "stream",
     "text": [
      "0.2167988610941631\n"
     ]
    }
   ],
   "source": [
    "data_city = data[data.city_size == 2]\n",
    "city_attend_event = len(data_city[data_city.gender_num == 0]) / len(data_city)\n",
    "print(city_attend_event)"
   ]
  },
  {
   "cell_type": "code",
   "execution_count": 267,
   "metadata": {
    "collapsed": false
   },
   "outputs": [
    {
     "name": "stdout",
     "output_type": "stream",
     "text": [
      "0.7867938107232818\n"
     ]
    }
   ],
   "source": [
    "data_city = data[data.city_size == 3]\n",
    "city_attend_event = len(data_city[data_city.gender_num == 1]) / len(data_city)\n",
    "print(city_attend_event)"
   ]
  },
  {
   "cell_type": "code",
   "execution_count": 323,
   "metadata": {
    "collapsed": false
   },
   "outputs": [
    {
     "data": {
      "image/png": "[encoded data removed]",
      "text/plain": [
       "<matplotlib.figure.Figure at 0x10bda3ef0>"
      ]
     },
     "metadata": {},
     "output_type": "display_data"
    }
   ],
   "source": [
    "bins=np.arange(0, 80, 2)\n",
    "data_gen_ag = data[data.CountryLive == \"United States of America\"]\n",
    "plt.hist(data_gen_ag.Age.dropna(), bins=bins)\n",
    "plt.title('USA Age distribution')\n",
    "plt.show()"
   ]
  },
  {
   "cell_type": "code",
   "execution_count": 324,
   "metadata": {
    "collapsed": false
   },
   "outputs": [
    {
     "data": {
      "image/png": "[encoded data removed]",
      "text/plain": [
       "<matplotlib.figure.Figure at 0x109789b38>"
      ]
     },
     "metadata": {},
     "output_type": "display_data"
    }
   ],
   "source": [
    "data_gen_ag = data[data.Gender == \"male\"]\n",
    "data_gen_ag = data[data.CountryLive != \"United States of America\"]\n",
    "plt.hist(data_gen_ag.Age.dropna(), bins=bins)\n",
    "plt.title('Male Age distribution')\n",
    "plt.show()"
   ]
  },
  {
   "cell_type": "code",
   "execution_count": 334,
   "metadata": {
    "collapsed": false
   },
   "outputs": [],
   "source": [
    "data_cleaned = data[[\"Age\", \"CountryLive\", \"gender_num\"]].dropna()\n",
    "data_cleaned = data_cleaned.reset_index(drop=True)"
   ]
  },
  {
   "cell_type": "code",
   "execution_count": 335,
   "metadata": {
    "collapsed": true
   },
   "outputs": [],
   "source": [
    "def classify_country(x):\n",
    "    \"\"\"Create 2 classes from CountryLive, USA = 1, not USA = 0\"\"\"\n",
    "    if x.CountryLive == \"United States of America\":\n",
    "        return 1\n",
    "    else:\n",
    "        return 0\n",
    "\n",
    "data_cleaned[\"country_num\"] = [classify_country(data_cleaned.loc[i]) for i in range(len(data_cleaned))]"
   ]
  },
  {
   "cell_type": "markdown",
   "metadata": {},
   "source": [
    "### All ages"
   ]
  },
  {
   "cell_type": "code",
   "execution_count": 363,
   "metadata": {
    "collapsed": false
   },
   "outputs": [
    {
     "name": "stderr",
     "output_type": "stream",
     "text": [
      "/Users/tatianaphillips/cf/501/lib/python3.5/site-packages/sklearn/utils/validation.py:429: DataConversionWarning: Data with input dtype int64 was converted to float64 by MinMaxScaler.\n",
      "  warnings.warn(msg, _DataConversionWarning)\n"
     ]
    },
    {
     "data": {
      "text/plain": [
       "0.79612314709236032"
      ]
     },
     "execution_count": 363,
     "metadata": {},
     "output_type": "execute_result"
    }
   ],
   "source": [
    "scaler = MinMaxScaler()\n",
    "\n",
    "data_cleaned[\"age_scaled\"] = scaler.fit_transform(data_cleaned.Age.reshape(-1, 1))\n",
    "data_cleaned[\"country_scaled\"] = scaler.fit_transform(data_cleaned.country_num.reshape(-1, 1))\n",
    "\n",
    "x_train, x_test, y_train, y_test = train_test_split(\n",
    "    data_cleaned[[\"country_scaled\"]],\n",
    "    data_cleaned.gender_num,\n",
    "    test_size=0.33\n",
    ")\n",
    "\n",
    "clf = KN(n_neighbors=4)\n",
    "\n",
    "clf.fit(x_train, y_train)\n",
    "\n",
    "y_model = clf.predict(x_test)\n",
    "\n",
    "a_s(y_test, y_model)"
   ]
  },
  {
   "cell_type": "markdown",
   "metadata": {},
   "source": [
    "### Cross Validation"
   ]
  },
  {
   "cell_type": "code",
   "execution_count": 345,
   "metadata": {
    "collapsed": false
   },
   "outputs": [
    {
     "name": "stdout",
     "output_type": "stream",
     "text": [
      "accuracy:  0.789691497366\n",
      "accuracy:  0.810688746707\n",
      "accuracy:  0.781708694016\n",
      "accuracy:  0.797515995484\n",
      "accuracy:  0.787730523146\n"
     ]
    }
   ],
   "source": [
    "kf = KFold(n_splits=5, shuffle=True)\n",
    "\n",
    "kf.get_n_splits(data_cleaned)\n",
    "\n",
    "for train_index, test_index in kf.split(data_cleaned):\n",
    "    clf = KN(n_neighbors=34)\n",
    "    X_train = data_cleaned[[\"country_scaled\"]].loc[train_index]\n",
    "    X_test = data_cleaned[[\"country_scaled\"]].loc[test_index]\n",
    "\n",
    "    y_train = data_cleaned.gender_num.loc[train_index]\n",
    "    y_test = data_cleaned.gender_num.loc[test_index]\n",
    "    clf.fit(X_train, y_train)\n",
    "    y_model = clf.predict(X_test)\n",
    "    print(\"accuracy: \", a_s(y_test, y_model))"
   ]
  },
  {
   "cell_type": "markdown",
   "metadata": {},
   "source": [
    "### Ages < 20"
   ]
  },
  {
   "cell_type": "code",
   "execution_count": 401,
   "metadata": {
    "collapsed": false
   },
   "outputs": [
    {
     "name": "stderr",
     "output_type": "stream",
     "text": [
      "/Users/tatianaphillips/cf/501/lib/python3.5/site-packages/ipykernel/__main__.py:3: SettingWithCopyWarning: \n",
      "A value is trying to be set on a copy of a slice from a DataFrame.\n",
      "Try using .loc[row_indexer,col_indexer] = value instead\n",
      "\n",
      "See the caveats in the documentation: http://pandas.pydata.org/pandas-docs/stable/indexing.html#indexing-view-versus-copy\n",
      "  app.launch_new_instance()\n",
      "/Users/tatianaphillips/cf/501/lib/python3.5/site-packages/sklearn/utils/validation.py:429: DataConversionWarning: Data with input dtype int64 was converted to float64 by MinMaxScaler.\n",
      "  warnings.warn(msg, _DataConversionWarning)\n",
      "/Users/tatianaphillips/cf/501/lib/python3.5/site-packages/ipykernel/__main__.py:4: SettingWithCopyWarning: \n",
      "A value is trying to be set on a copy of a slice from a DataFrame.\n",
      "Try using .loc[row_indexer,col_indexer] = value instead\n",
      "\n",
      "See the caveats in the documentation: http://pandas.pydata.org/pandas-docs/stable/indexing.html#indexing-view-versus-copy\n"
     ]
    },
    {
     "data": {
      "text/plain": [
       "0.87562189054726369"
      ]
     },
     "execution_count": 401,
     "metadata": {},
     "output_type": "execute_result"
    }
   ],
   "source": [
    "scaler = MinMaxScaler()\n",
    "data_cleaned_30 = data_cleaned[data_cleaned.Age < 20]\n",
    "data_cleaned_30[\"age_scaled\"] = scaler.fit_transform(data_cleaned_30.Age.reshape(-1, 1))\n",
    "data_cleaned_30[\"country_scaled\"] = scaler.fit_transform(data_cleaned_30.country_num.reshape(-1, 1))\n",
    "\n",
    "x_train, x_test, y_train, y_test = train_test_split(\n",
    "    data_cleaned_30[[\"age_scaled\"]],\n",
    "    data_cleaned_30.gender_num,\n",
    "    test_size=0.33\n",
    ")\n",
    "\n",
    "clf = KN(n_neighbors=4)\n",
    "\n",
    "clf.fit(x_train, y_train)\n",
    "\n",
    "y_model = clf.predict(x_test)\n",
    "\n",
    "a_s(y_test, y_model)"
   ]
  },
  {
   "cell_type": "code",
   "execution_count": 390,
   "metadata": {
    "collapsed": false
   },
   "outputs": [],
   "source": [
    "data_cleaned_inc = data[[\"Age\", \"Income\", \"gender_num\", \"CountryLive\"]].dropna()\n",
    "data_cleaned_inc = data_cleaned_inc.reset_index(drop=True)"
   ]
  },
  {
   "cell_type": "code",
   "execution_count": 391,
   "metadata": {
    "collapsed": false
   },
   "outputs": [],
   "source": [
    "def classify_country(x):\n",
    "    \"\"\"Create 2 classes from CountryLive, USA = 1, not USA = 0\"\"\"\n",
    "    if x.CountryLive == \"United States of America\":\n",
    "        return 1\n",
    "    else:\n",
    "        return 0\n",
    "\n",
    "data_cleaned_inc[\"country_num\"] = [classify_country(data_cleaned_inc.loc[i]) for i in range(len(data_cleaned_inc))]"
   ]
  },
  {
   "cell_type": "code",
   "execution_count": 392,
   "metadata": {
    "collapsed": false
   },
   "outputs": [
    {
     "data": {
      "text/plain": [
       "Index(['Age', 'Income', 'gender_num', 'CountryLive', 'country_num'], dtype='object')"
      ]
     },
     "execution_count": 392,
     "metadata": {},
     "output_type": "execute_result"
    }
   ],
   "source": [
    "data_cleaned_inc.columns"
   ]
  },
  {
   "cell_type": "code",
   "execution_count": 403,
   "metadata": {
    "collapsed": false
   },
   "outputs": [
    {
     "name": "stderr",
     "output_type": "stream",
     "text": [
      "/Users/tatianaphillips/cf/501/lib/python3.5/site-packages/sklearn/utils/validation.py:429: DataConversionWarning: Data with input dtype int64 was converted to float64 by MinMaxScaler.\n",
      "  warnings.warn(msg, _DataConversionWarning)\n"
     ]
    },
    {
     "data": {
      "text/plain": [
       "0.6530181511186155"
      ]
     },
     "execution_count": 403,
     "metadata": {},
     "output_type": "execute_result"
    }
   ],
   "source": [
    "scaler = MinMaxScaler()\n",
    "data_cleaned_inc[\"age_scaled\"] = scaler.fit_transform(data_cleaned_inc.Age.reshape(-1, 1))\n",
    "data_cleaned_inc[\"income_scaled\"] = scaler.fit_transform(data_cleaned_inc.Income.reshape(-1, 1))\n",
    "data_cleaned_inc[\"country_scaled\"] = scaler.fit_transform(data_cleaned_inc.country_num.reshape(-1, 1))\n",
    "\n",
    "x_train, x_test, y_train, y_test = train_test_split(\n",
    "    data_cleaned_inc[[\"age_scaled\"]],\n",
    "    data_cleaned_inc.gender_num,\n",
    "    test_size=0.33\n",
    ")\n",
    "\n",
    "clf = KN(n_neighbors=4)\n",
    "\n",
    "clf.fit(x_train, y_train)\n",
    "\n",
    "y_model = clf.predict(x_test)\n",
    "\n",
    "a_s(y_test, y_model)"
   ]
  },
  {
   "cell_type": "code",
   "execution_count": null,
   "metadata": {
    "collapsed": true
   },
   "outputs": [],
   "source": []
  },
  {
   "cell_type": "code",
   "execution_count": null,
   "metadata": {
    "collapsed": true
   },
   "outputs": [],
   "source": []
  }
 ],
 "metadata": {
  "kernelspec": {
   "display_name": "Python 3",
   "language": "python",
   "name": "python3"
  },
  "language_info": {
   "codemirror_mode": {
    "name": "ipython",
    "version": 3
   },
   "file_extension": ".py",
   "mimetype": "text/x-python",
   "name": "python",
   "nbconvert_exporter": "python",
   "pygments_lexer": "ipython3",
   "version": "3.5.1"
  }
 },
 "nbformat": 4,
 "nbformat_minor": 1
}
