{
 "cells": [
  {
   "cell_type": "code",
   "execution_count": 1,
   "metadata": {
    "collapsed": true
   },
   "outputs": [],
   "source": [
    "import pandas as pd\n",
    "import numpy as np\n",
    "from scipy.stats import ttest_ind\n",
    "import matplotlib.pyplot as plt\n",
    "from sklearn.preprocessing import MinMaxScaler\n",
    "from sklearn.neighbors import KNeighborsClassifier as KN\n",
    "from sklearn.model_selection import train_test_split\n",
    "from sklearn.metrics import accuracy_score as a_s\n",
    "from sklearn.model_selection import KFold"
   ]
  },
  {
   "cell_type": "code",
   "execution_count": 2,
   "metadata": {
    "collapsed": false
   },
   "outputs": [],
   "source": [
    "data = pd.read_csv(\"2016-FCC-New-Coders-Survey-Data.csv\", low_memory=False)"
   ]
  },
  {
   "cell_type": "code",
   "execution_count": 3,
   "metadata": {
    "collapsed": false
   },
   "outputs": [
    {
     "data": {
      "text/plain": [
       "15620"
      ]
     },
     "execution_count": 3,
     "metadata": {},
     "output_type": "execute_result"
    }
   ],
   "source": [
    "len(data)"
   ]
  },
  {
   "cell_type": "code",
   "execution_count": 4,
   "metadata": {
    "collapsed": false
   },
   "outputs": [
    {
     "data": {
      "text/plain": [
       "Index(['Age', 'AttendedBootcamp', 'BootcampFinish', 'BootcampFullJobAfter',\n",
       "       'BootcampLoanYesNo', 'BootcampMonthsAgo', 'BootcampName',\n",
       "       'BootcampPostSalary', 'BootcampRecommend', 'ChildrenNumber',\n",
       "       'CityPopulation', 'CodeEventBootcamp', 'CodeEventCoffee',\n",
       "       'CodeEventConferences', 'CodeEventDjangoGirls', 'CodeEventGameJam',\n",
       "       'CodeEventGirlDev', 'CodeEventHackathons', 'CodeEventMeetup',\n",
       "       'CodeEventNodeSchool', 'CodeEventNone', 'CodeEventOther',\n",
       "       'CodeEventRailsBridge', 'CodeEventRailsGirls'],\n",
       "      dtype='object')"
      ]
     },
     "execution_count": 4,
     "metadata": {},
     "output_type": "execute_result"
    }
   ],
   "source": [
    "data.columns[:24]"
   ]
  },
  {
   "cell_type": "code",
   "execution_count": 5,
   "metadata": {
    "collapsed": false
   },
   "outputs": [
    {
     "data": {
      "text/plain": [
       "Index(['CodeEventStartUpWknd', 'CodeEventWomenCode', 'CodeEventWorkshop',\n",
       "       'CommuteTime', 'CountryCitizen', 'CountryLive', 'EmploymentField',\n",
       "       'EmploymentFieldOther', 'EmploymentStatus', 'EmploymentStatusOther',\n",
       "       'ExpectedEarning', 'FinanciallySupporting', 'Gender', 'HasChildren',\n",
       "       'HasDebt', 'HasFinancialDependents', 'HasHighSpdInternet',\n",
       "       'HasHomeMortgage', 'HasServedInMilitary', 'HasStudentDebt',\n",
       "       'HomeMortgageOwe', 'HoursLearning', 'ID.x', 'ID.y', 'Income',\n",
       "       'IsEthnicMinority', 'IsReceiveDiabilitiesBenefits', 'IsSoftwareDev',\n",
       "       'IsUnderEmployed', 'JobApplyWhen', 'JobPref', 'JobRelocateYesNo',\n",
       "       'JobRoleInterest', 'JobRoleInterestOther', 'JobWherePref',\n",
       "       'LanguageAtHome', 'MaritalStatus', 'MoneyForLearning',\n",
       "       'MonthsProgramming', 'NetworkID', 'Part1EndTime', 'Part1StartTime',\n",
       "       'Part2EndTime', 'Part2StartTime', 'PodcastChangeLog',\n",
       "       'PodcastCodeNewbie', 'PodcastCodingBlocks', 'PodcastDeveloperTea',\n",
       "       'PodcastDotNetRocks', 'PodcastHanselminutes', 'PodcastJSJabber',\n",
       "       'PodcastJsAir', 'PodcastNone', 'PodcastOther',\n",
       "       'PodcastProgrammingThrowDown', 'PodcastRubyRogues', 'PodcastSEDaily',\n",
       "       'PodcastShopTalk', 'PodcastTalkPython', 'PodcastWebAhead',\n",
       "       'ResourceBlogs', 'ResourceBooks', 'ResourceCodeWars',\n",
       "       'ResourceCodecademy', 'ResourceCoursera', 'ResourceDevTips',\n",
       "       'ResourceEdX', 'ResourceEggHead', 'ResourceFCC', 'ResourceGoogle',\n",
       "       'ResourceHackerRank', 'ResourceKhanAcademy', 'ResourceLynda',\n",
       "       'ResourceMDN', 'ResourceOdinProj', 'ResourceOther',\n",
       "       'ResourcePluralSight', 'ResourceReddit', 'ResourceSkillCrush',\n",
       "       'ResourceSoloLearn', 'ResourceStackOverflow', 'ResourceTreehouse',\n",
       "       'ResourceUdacity', 'ResourceUdemy', 'ResourceW3Schools',\n",
       "       'ResourceYouTube', 'SchoolDegree', 'SchoolMajor', 'StudentDebtOwe'],\n",
       "      dtype='object')"
      ]
     },
     "execution_count": 5,
     "metadata": {},
     "output_type": "execute_result"
    }
   ],
   "source": [
    "data.columns[24:]"
   ]
  },
  {
   "cell_type": "code",
   "execution_count": 16,
   "metadata": {
    "collapsed": false
   },
   "outputs": [
    {
     "data": {
      "text/plain": [
       "953"
      ]
     },
     "execution_count": 16,
     "metadata": {},
     "output_type": "execute_result"
    }
   ],
   "source": [
    "len(data.AttendedBootcamp[data.AttendedBootcamp == True])"
   ]
  },
  {
   "cell_type": "code",
   "execution_count": 7,
   "metadata": {
    "collapsed": true
   },
   "outputs": [],
   "source": [
    "def gender_to_number(x):\n",
    "    if x.Gender == 'male':\n",
    "        return 1\n",
    "    elif x.Gender == 'female':\n",
    "        return 0"
   ]
  },
  {
   "cell_type": "code",
   "execution_count": 8,
   "metadata": {
    "collapsed": false
   },
   "outputs": [
    {
     "data": {
      "text/plain": [
       "array(['between 100,000 and 1 million', 'more than 1 million',\n",
       "       'less than 100,000', nan], dtype=object)"
      ]
     },
     "execution_count": 8,
     "metadata": {},
     "output_type": "execute_result"
    }
   ],
   "source": [
    "data.CityPopulation.unique()"
   ]
  },
  {
   "cell_type": "code",
   "execution_count": 9,
   "metadata": {
    "collapsed": true
   },
   "outputs": [],
   "source": [
    "def city_to_number(x):\n",
    "    if x.CityPopulation == 'less than 100,000':\n",
    "        return 1\n",
    "    elif x.CityPopulation == 'between 100,000 and 1 million':\n",
    "        return 2\n",
    "    elif x.CityPopulation == 'more than 1 million':\n",
    "        return 3"
   ]
  },
  {
   "cell_type": "code",
   "execution_count": 10,
   "metadata": {
    "collapsed": false
   },
   "outputs": [],
   "source": [
    "data[\"gender_num\"] = [gender_to_number(data.loc[i]) for i in range(len(data))]"
   ]
  },
  {
   "cell_type": "code",
   "execution_count": 11,
   "metadata": {
    "collapsed": true
   },
   "outputs": [],
   "source": [
    "data[\"city_size\"] = [city_to_number(data.loc[i]) for i in range(len(data))]"
   ]
  },
  {
   "cell_type": "code",
   "execution_count": 12,
   "metadata": {
    "collapsed": false
   },
   "outputs": [
    {
     "name": "stdout",
     "output_type": "stream",
     "text": [
      "3155\n",
      "4917\n",
      "5558\n"
     ]
    }
   ],
   "source": [
    "print(len(data[data.city_size == 1]))\n",
    "print(len(data[data.city_size == 2]))\n",
    "print(len(data[data.city_size == 3]))"
   ]
  },
  {
   "cell_type": "code",
   "execution_count": 17,
   "metadata": {
    "collapsed": false
   },
   "outputs": [
    {
     "data": {
      "text/plain": [
       "13606"
      ]
     },
     "execution_count": 17,
     "metadata": {},
     "output_type": "execute_result"
    }
   ],
   "source": [
    "data_gender = data[(data[\"Gender\"] == 'male') | (data[\"Gender\"] == 'female')]\n",
    "len(data_gender)"
   ]
  },
  {
   "cell_type": "code",
   "execution_count": null,
   "metadata": {
    "collapsed": false
   },
   "outputs": [],
   "source": [
    "data1 = data_gender[[\"gender_num\", \"Income\", \"MonthsProgramming\", \"city_size\"]].dropna()\n",
    "len(data1)\n",
    "\n",
    "x = data1.Income\n",
    "y = data1.gender_num\n",
    "plt.scatter(x, y)\n",
    "plt.show()"
   ]
  },
  {
   "cell_type": "code",
   "execution_count": null,
   "metadata": {
    "collapsed": false
   },
   "outputs": [],
   "source": [
    "data_month_prog_less_36 = data1[data1.MonthsProgramming <= 12]\n",
    "print(len(data_month_prog_less_36))\n",
    "\n",
    "x = data_month_prog_less_36.Income\n",
    "y = data_month_prog_less_36.gender_num\n",
    "plt.scatter(x, y)\n",
    "plt.show()"
   ]
  },
  {
   "cell_type": "code",
   "execution_count": null,
   "metadata": {
    "collapsed": false
   },
   "outputs": [],
   "source": [
    "data_month = data1[data1.MonthsProgramming <= 24]\n",
    "print(len(data_month_prog_less_36))\n",
    "x = data_month.MonthsProgramming\n",
    "y = data_month.Income\n",
    "plt.scatter(x, y)\n",
    "plt.show()"
   ]
  },
  {
   "cell_type": "code",
   "execution_count": null,
   "metadata": {
    "collapsed": false
   },
   "outputs": [],
   "source": [
    "\n",
    "\n",
    "x = data1.MonthsProgramming\n",
    "y = data1.gender_num\n",
    "plt.scatter(x, y)\n",
    "plt.show()"
   ]
  },
  {
   "cell_type": "code",
   "execution_count": null,
   "metadata": {
    "collapsed": false
   },
   "outputs": [],
   "source": [
    "data.BootcampFullJobAfter.unique()"
   ]
  },
  {
   "cell_type": "code",
   "execution_count": null,
   "metadata": {
    "collapsed": false
   },
   "outputs": [],
   "source": [
    "len(data.BootcampFullJobAfter[(data.BootcampFullJobAfter == 1.0) | (data.BootcampFullJobAfter == 0.0)])"
   ]
  },
  {
   "cell_type": "code",
   "execution_count": null,
   "metadata": {
    "collapsed": false
   },
   "outputs": [],
   "source": [
    "len(data.BootcampMonthsAgo[data.BootcampMonthsAgo > 0])"
   ]
  },
  {
   "cell_type": "code",
   "execution_count": null,
   "metadata": {
    "collapsed": false
   },
   "outputs": [],
   "source": [
    "data.JobApplyWhen.unique()"
   ]
  },
  {
   "cell_type": "code",
   "execution_count": null,
   "metadata": {
    "collapsed": false
   },
   "outputs": [],
   "source": [
    "data.EmploymentStatus.unique()"
   ]
  },
  {
   "cell_type": "code",
   "execution_count": null,
   "metadata": {
    "collapsed": false
   },
   "outputs": [],
   "source": [
    "data.BootcampFinish.unique()"
   ]
  },
  {
   "cell_type": "code",
   "execution_count": null,
   "metadata": {
    "collapsed": false
   },
   "outputs": [],
   "source": [
    "len(data.BootcampFinish[(data.BootcampFinish == 1.0) | (data.BootcampFinish == 0.0)])"
   ]
  },
  {
   "cell_type": "code",
   "execution_count": null,
   "metadata": {
    "collapsed": false
   },
   "outputs": [],
   "source": [
    "len(data.BootcampPostSalary[data.BootcampPostSalary > 0])"
   ]
  },
  {
   "cell_type": "code",
   "execution_count": null,
   "metadata": {
    "collapsed": true
   },
   "outputs": [],
   "source": [
    "data3 = data[[\"CityPopulation\", \"BootcampFullJobAfter\"]].dropna()"
   ]
  },
  {
   "cell_type": "code",
   "execution_count": null,
   "metadata": {
    "collapsed": false
   },
   "outputs": [],
   "source": [
    "#x = data3.CityPopulation\n",
    "#y = data3.BootcampPostSalary\n",
    "#plt.scatter(x, y)\n",
    "#plt.show()"
   ]
  },
  {
   "cell_type": "code",
   "execution_count": null,
   "metadata": {
    "collapsed": false
   },
   "outputs": [],
   "source": [
    "data4 = data[[\"Gender\", \"Income\"]].dropna()"
   ]
  },
  {
   "cell_type": "code",
   "execution_count": null,
   "metadata": {
    "collapsed": false
   },
   "outputs": [],
   "source": [
    "len(data4)"
   ]
  },
  {
   "cell_type": "code",
   "execution_count": null,
   "metadata": {
    "collapsed": false
   },
   "outputs": [],
   "source": [
    "data.Gender.unique()"
   ]
  },
  {
   "cell_type": "code",
   "execution_count": null,
   "metadata": {
    "collapsed": false
   },
   "outputs": [],
   "source": [
    "data4_1 = data4[data4[\"Gender\"] == 'male']"
   ]
  },
  {
   "cell_type": "code",
   "execution_count": null,
   "metadata": {
    "collapsed": false
   },
   "outputs": [],
   "source": [
    "len(data4_1)"
   ]
  },
  {
   "cell_type": "code",
   "execution_count": null,
   "metadata": {
    "collapsed": true
   },
   "outputs": [],
   "source": [
    "data4_0 = data4[data4[\"Gender\"] == 'female']"
   ]
  },
  {
   "cell_type": "code",
   "execution_count": null,
   "metadata": {
    "collapsed": false
   },
   "outputs": [],
   "source": [
    "len(data4_0)"
   ]
  },
  {
   "cell_type": "code",
   "execution_count": null,
   "metadata": {
    "collapsed": false
   },
   "outputs": [],
   "source": [
    "plt.figure(figsize=(3, 3))\n",
    "plt.hist(data4_1.Income, bins=np.arange(0, 200000, 5000))\n",
    "plt.title(\"Male\")\n",
    "plt.show()"
   ]
  },
  {
   "cell_type": "code",
   "execution_count": null,
   "metadata": {
    "collapsed": false
   },
   "outputs": [],
   "source": [
    "plt.figure(figsize=(3, 3))\n",
    "plt.hist(data4_0.Income, bins=np.arange(0, 200000, 5000))\n",
    "plt.title(\"Female\")\n",
    "plt.show()"
   ]
  },
  {
   "cell_type": "code",
   "execution_count": null,
   "metadata": {
    "collapsed": false
   },
   "outputs": [],
   "source": [
    "data4_1.describe()"
   ]
  },
  {
   "cell_type": "code",
   "execution_count": null,
   "metadata": {
    "collapsed": false
   },
   "outputs": [],
   "source": [
    "data4_0.describe()"
   ]
  },
  {
   "cell_type": "code",
   "execution_count": null,
   "metadata": {
    "collapsed": false
   },
   "outputs": [],
   "source": [
    "tstat, pval = ttest_ind(data4_1.Income, data4_0.Income, equal_var=False)\n",
    "print(tstat, pval)"
   ]
  },
  {
   "cell_type": "code",
   "execution_count": null,
   "metadata": {
    "collapsed": false
   },
   "outputs": [],
   "source": [
    "data.SchoolDegree.unique()"
   ]
  },
  {
   "cell_type": "code",
   "execution_count": null,
   "metadata": {
    "collapsed": true
   },
   "outputs": [],
   "source": [
    "data_dev = data[[\"MonthsProgramming\", \"IsSoftwareDev\", \"gender_num\"]].dropna()"
   ]
  },
  {
   "cell_type": "code",
   "execution_count": null,
   "metadata": {
    "collapsed": false
   },
   "outputs": [],
   "source": [
    "len(data_dev[(data_dev.IsSoftwareDev == 1.0) & (data.MonthsProgramming < 6)& (data.gender_num == 1)])"
   ]
  },
  {
   "cell_type": "code",
   "execution_count": null,
   "metadata": {
    "collapsed": false
   },
   "outputs": [],
   "source": [
    "len(data_dev[data_dev.MonthsProgramming < 12])"
   ]
  },
  {
   "cell_type": "code",
   "execution_count": null,
   "metadata": {
    "collapsed": false
   },
   "outputs": [],
   "source": [
    "a = len(data[(data.CodeEventMeetup == 1) & (data.AttendedBootcamp == 1)])\n",
    "b = len(data[(data.CodeEventMeetup == 1)]) \n",
    "a / b\n"
   ]
  },
  {
   "cell_type": "code",
   "execution_count": null,
   "metadata": {
    "collapsed": false
   },
   "outputs": [],
   "source": [
    "a = len(data[(data.CodeEventMeetup == 1) & (data.AttendedBootcamp == 0)])\n",
    "b = len(data[data.CodeEventMeetup == 1])\n",
    "a / b"
   ]
  },
  {
   "cell_type": "code",
   "execution_count": null,
   "metadata": {
    "collapsed": true
   },
   "outputs": [],
   "source": [
    "events = []\n",
    "for col in data.columns:\n",
    "    if col.startswith(\"CodeEvent\"):\n",
    "        events.append(col)"
   ]
  },
  {
   "cell_type": "code",
   "execution_count": null,
   "metadata": {
    "collapsed": false
   },
   "outputs": [],
   "source": [
    "print(events, len(events))"
   ]
  },
  {
   "cell_type": "code",
   "execution_count": null,
   "metadata": {
    "collapsed": false
   },
   "outputs": [],
   "source": [
    "data_events = data[events]"
   ]
  },
  {
   "cell_type": "code",
   "execution_count": null,
   "metadata": {
    "collapsed": true
   },
   "outputs": [],
   "source": [
    "def attend_events(x):\n",
    "    if x.any() == 1:\n",
    "        return 1\n",
    "    else:\n",
    "        return 0"
   ]
  },
  {
   "cell_type": "code",
   "execution_count": null,
   "metadata": {
    "collapsed": false
   },
   "outputs": [],
   "source": [
    "event_column = [attend_events(data_events.loc[i]) for i in range(len(data_events))]"
   ]
  },
  {
   "cell_type": "code",
   "execution_count": null,
   "metadata": {
    "collapsed": false
   },
   "outputs": [],
   "source": [
    "event_column.count(1)"
   ]
  },
  {
   "cell_type": "code",
   "execution_count": null,
   "metadata": {
    "collapsed": false
   },
   "outputs": [],
   "source": [
    "len(data_events)"
   ]
  },
  {
   "cell_type": "code",
   "execution_count": null,
   "metadata": {
    "collapsed": false
   },
   "outputs": [],
   "source": [
    "data[\"attend_events\"] = event_column"
   ]
  },
  {
   "cell_type": "code",
   "execution_count": null,
   "metadata": {
    "collapsed": false
   },
   "outputs": [],
   "source": [
    "fem_event = data[data.Gender == 'female']\n",
    "\n",
    "fem_attend_event = len(fem_event[fem_event.attend_events == 1]) / len(fem_event)\n",
    "print(fem_attend_event)"
   ]
  },
  {
   "cell_type": "code",
   "execution_count": null,
   "metadata": {
    "collapsed": false
   },
   "outputs": [],
   "source": [
    "male_event = data[data.Gender == 'male']\n",
    "\n",
    "male_attend_event = len(male_event[male_event.attend_events == 1]) / len(male_event)\n",
    "print(male_attend_event)"
   ]
  },
  {
   "cell_type": "code",
   "execution_count": 20,
   "metadata": {
    "collapsed": false
   },
   "outputs": [
    {
     "ename": "KeyError",
     "evalue": "\"['attend_events'] not in index\"",
     "output_type": "error",
     "traceback": [
      "\u001b[0;31m---------------------------------------------------------------------------\u001b[0m",
      "\u001b[0;31mKeyError\u001b[0m                                  Traceback (most recent call last)",
      "\u001b[0;32m<ipython-input-20-a46ded420386>\u001b[0m in \u001b[0;36m<module>\u001b[0;34m()\u001b[0m\n\u001b[0;32m----> 1\u001b[0;31m \u001b[0mbc_all\u001b[0m \u001b[0;34m=\u001b[0m \u001b[0mdata\u001b[0m\u001b[0;34m[\u001b[0m\u001b[0;34m[\u001b[0m\u001b[0;34m\"AttendedBootcamp\"\u001b[0m\u001b[0;34m,\u001b[0m \u001b[0;34m\"attend_events\"\u001b[0m\u001b[0;34m]\u001b[0m\u001b[0;34m]\u001b[0m\u001b[0;34m.\u001b[0m\u001b[0mdropna\u001b[0m\u001b[0;34m(\u001b[0m\u001b[0;34m)\u001b[0m\u001b[0;34m\u001b[0m\u001b[0m\n\u001b[0m\u001b[1;32m      2\u001b[0m \u001b[0mbc_all\u001b[0m \u001b[0;34m=\u001b[0m \u001b[0mbc_all\u001b[0m\u001b[0;34m.\u001b[0m\u001b[0mreset_index\u001b[0m\u001b[0;34m(\u001b[0m\u001b[0mdrop\u001b[0m\u001b[0;34m=\u001b[0m\u001b[0;32mTrue\u001b[0m\u001b[0;34m)\u001b[0m\u001b[0;34m\u001b[0m\u001b[0m\n\u001b[1;32m      3\u001b[0m \u001b[0mbc_event\u001b[0m \u001b[0;34m=\u001b[0m \u001b[0mbc_all\u001b[0m\u001b[0;34m[\u001b[0m\u001b[0mdata\u001b[0m\u001b[0;34m.\u001b[0m\u001b[0mAttendedBootcamp\u001b[0m \u001b[0;34m==\u001b[0m \u001b[0;36m1\u001b[0m\u001b[0;34m]\u001b[0m\u001b[0;34m\u001b[0m\u001b[0m\n\u001b[1;32m      4\u001b[0m \u001b[0mbc_attend_event\u001b[0m \u001b[0;34m=\u001b[0m \u001b[0mlen\u001b[0m\u001b[0;34m(\u001b[0m\u001b[0mbc_event\u001b[0m\u001b[0;34m[\u001b[0m\u001b[0mbc_event\u001b[0m\u001b[0;34m.\u001b[0m\u001b[0mattend_events\u001b[0m \u001b[0;34m==\u001b[0m \u001b[0;36m1\u001b[0m\u001b[0;34m]\u001b[0m\u001b[0;34m)\u001b[0m \u001b[0;34m/\u001b[0m \u001b[0mlen\u001b[0m\u001b[0;34m(\u001b[0m\u001b[0mbc_event\u001b[0m\u001b[0;34m)\u001b[0m\u001b[0;34m\u001b[0m\u001b[0m\n\u001b[1;32m      5\u001b[0m \u001b[0mprint\u001b[0m\u001b[0;34m(\u001b[0m\u001b[0mbc_attend_event\u001b[0m\u001b[0;34m)\u001b[0m\u001b[0;34m\u001b[0m\u001b[0m\n",
      "\u001b[0;32m/Users/tatianaphillips/cf/501/lib/python3.5/site-packages/pandas/core/frame.py\u001b[0m in \u001b[0;36m__getitem__\u001b[0;34m(self, key)\u001b[0m\n\u001b[1;32m   1989\u001b[0m         \u001b[0;32mif\u001b[0m \u001b[0misinstance\u001b[0m\u001b[0;34m(\u001b[0m\u001b[0mkey\u001b[0m\u001b[0;34m,\u001b[0m \u001b[0;34m(\u001b[0m\u001b[0mSeries\u001b[0m\u001b[0;34m,\u001b[0m \u001b[0mnp\u001b[0m\u001b[0;34m.\u001b[0m\u001b[0mndarray\u001b[0m\u001b[0;34m,\u001b[0m \u001b[0mIndex\u001b[0m\u001b[0;34m,\u001b[0m \u001b[0mlist\u001b[0m\u001b[0;34m)\u001b[0m\u001b[0;34m)\u001b[0m\u001b[0;34m:\u001b[0m\u001b[0;34m\u001b[0m\u001b[0m\n\u001b[1;32m   1990\u001b[0m             \u001b[0;31m# either boolean or fancy integer index\u001b[0m\u001b[0;34m\u001b[0m\u001b[0;34m\u001b[0m\u001b[0m\n\u001b[0;32m-> 1991\u001b[0;31m             \u001b[0;32mreturn\u001b[0m \u001b[0mself\u001b[0m\u001b[0;34m.\u001b[0m\u001b[0m_getitem_array\u001b[0m\u001b[0;34m(\u001b[0m\u001b[0mkey\u001b[0m\u001b[0;34m)\u001b[0m\u001b[0;34m\u001b[0m\u001b[0m\n\u001b[0m\u001b[1;32m   1992\u001b[0m         \u001b[0;32melif\u001b[0m \u001b[0misinstance\u001b[0m\u001b[0;34m(\u001b[0m\u001b[0mkey\u001b[0m\u001b[0;34m,\u001b[0m \u001b[0mDataFrame\u001b[0m\u001b[0;34m)\u001b[0m\u001b[0;34m:\u001b[0m\u001b[0;34m\u001b[0m\u001b[0m\n\u001b[1;32m   1993\u001b[0m             \u001b[0;32mreturn\u001b[0m \u001b[0mself\u001b[0m\u001b[0;34m.\u001b[0m\u001b[0m_getitem_frame\u001b[0m\u001b[0;34m(\u001b[0m\u001b[0mkey\u001b[0m\u001b[0;34m)\u001b[0m\u001b[0;34m\u001b[0m\u001b[0m\n",
      "\u001b[0;32m/Users/tatianaphillips/cf/501/lib/python3.5/site-packages/pandas/core/frame.py\u001b[0m in \u001b[0;36m_getitem_array\u001b[0;34m(self, key)\u001b[0m\n\u001b[1;32m   2033\u001b[0m             \u001b[0;32mreturn\u001b[0m \u001b[0mself\u001b[0m\u001b[0;34m.\u001b[0m\u001b[0mtake\u001b[0m\u001b[0;34m(\u001b[0m\u001b[0mindexer\u001b[0m\u001b[0;34m,\u001b[0m \u001b[0maxis\u001b[0m\u001b[0;34m=\u001b[0m\u001b[0;36m0\u001b[0m\u001b[0;34m,\u001b[0m \u001b[0mconvert\u001b[0m\u001b[0;34m=\u001b[0m\u001b[0;32mFalse\u001b[0m\u001b[0;34m)\u001b[0m\u001b[0;34m\u001b[0m\u001b[0m\n\u001b[1;32m   2034\u001b[0m         \u001b[0;32melse\u001b[0m\u001b[0;34m:\u001b[0m\u001b[0;34m\u001b[0m\u001b[0m\n\u001b[0;32m-> 2035\u001b[0;31m             \u001b[0mindexer\u001b[0m \u001b[0;34m=\u001b[0m \u001b[0mself\u001b[0m\u001b[0;34m.\u001b[0m\u001b[0mix\u001b[0m\u001b[0;34m.\u001b[0m\u001b[0m_convert_to_indexer\u001b[0m\u001b[0;34m(\u001b[0m\u001b[0mkey\u001b[0m\u001b[0;34m,\u001b[0m \u001b[0maxis\u001b[0m\u001b[0;34m=\u001b[0m\u001b[0;36m1\u001b[0m\u001b[0;34m)\u001b[0m\u001b[0;34m\u001b[0m\u001b[0m\n\u001b[0m\u001b[1;32m   2036\u001b[0m             \u001b[0;32mreturn\u001b[0m \u001b[0mself\u001b[0m\u001b[0;34m.\u001b[0m\u001b[0mtake\u001b[0m\u001b[0;34m(\u001b[0m\u001b[0mindexer\u001b[0m\u001b[0;34m,\u001b[0m \u001b[0maxis\u001b[0m\u001b[0;34m=\u001b[0m\u001b[0;36m1\u001b[0m\u001b[0;34m,\u001b[0m \u001b[0mconvert\u001b[0m\u001b[0;34m=\u001b[0m\u001b[0;32mTrue\u001b[0m\u001b[0;34m)\u001b[0m\u001b[0;34m\u001b[0m\u001b[0m\n\u001b[1;32m   2037\u001b[0m \u001b[0;34m\u001b[0m\u001b[0m\n",
      "\u001b[0;32m/Users/tatianaphillips/cf/501/lib/python3.5/site-packages/pandas/core/indexing.py\u001b[0m in \u001b[0;36m_convert_to_indexer\u001b[0;34m(self, obj, axis, is_setter)\u001b[0m\n\u001b[1;32m   1212\u001b[0m                 \u001b[0mmask\u001b[0m \u001b[0;34m=\u001b[0m \u001b[0mcheck\u001b[0m \u001b[0;34m==\u001b[0m \u001b[0;34m-\u001b[0m\u001b[0;36m1\u001b[0m\u001b[0;34m\u001b[0m\u001b[0m\n\u001b[1;32m   1213\u001b[0m                 \u001b[0;32mif\u001b[0m \u001b[0mmask\u001b[0m\u001b[0;34m.\u001b[0m\u001b[0many\u001b[0m\u001b[0;34m(\u001b[0m\u001b[0;34m)\u001b[0m\u001b[0;34m:\u001b[0m\u001b[0;34m\u001b[0m\u001b[0m\n\u001b[0;32m-> 1214\u001b[0;31m                     \u001b[0;32mraise\u001b[0m \u001b[0mKeyError\u001b[0m\u001b[0;34m(\u001b[0m\u001b[0;34m'%s not in index'\u001b[0m \u001b[0;34m%\u001b[0m \u001b[0mobjarr\u001b[0m\u001b[0;34m[\u001b[0m\u001b[0mmask\u001b[0m\u001b[0;34m]\u001b[0m\u001b[0;34m)\u001b[0m\u001b[0;34m\u001b[0m\u001b[0m\n\u001b[0m\u001b[1;32m   1215\u001b[0m \u001b[0;34m\u001b[0m\u001b[0m\n\u001b[1;32m   1216\u001b[0m                 \u001b[0;32mreturn\u001b[0m \u001b[0m_values_from_object\u001b[0m\u001b[0;34m(\u001b[0m\u001b[0mindexer\u001b[0m\u001b[0;34m)\u001b[0m\u001b[0;34m\u001b[0m\u001b[0m\n",
      "\u001b[0;31mKeyError\u001b[0m: \"['attend_events'] not in index\""
     ]
    }
   ],
   "source": [
    "bc_all = data[[\"AttendedBootcamp\", \"attend_events\"]].dropna()\n",
    "bc_all = bc_all.reset_index(drop=True)\n",
    "bc_event = bc_all[data.AttendedBootcamp == 1]\n",
    "bc_attend_event = len(bc_event[bc_event.attend_events == 1]) / len(bc_event)\n",
    "print(bc_attend_event)"
   ]
  },
  {
   "cell_type": "markdown",
   "metadata": {},
   "source": [
    "### 4% of men attended bc, and 11% of women"
   ]
  },
  {
   "cell_type": "markdown",
   "metadata": {},
   "source": [
    "### country live vs gender"
   ]
  },
  {
   "cell_type": "code",
   "execution_count": 18,
   "metadata": {
    "collapsed": false
   },
   "outputs": [
    {
     "name": "stdout",
     "output_type": "stream",
     "text": [
      "0.41127741692553893\n"
     ]
    }
   ],
   "source": [
    "gender_all = data[[\"CountryLive\", \"gender_num\"]].dropna()\n",
    "gender_all = gender_all.reset_index(drop=True)\n",
    "gender_men = gender_all[gender_all.gender_num == 1]\n",
    "men_usa = len(gender_men[gender_men.CountryLive == \"United States of America\"]) / len(gender_men)\n",
    "print(men_usa)"
   ]
  },
  {
   "cell_type": "code",
   "execution_count": 19,
   "metadata": {
    "collapsed": false
   },
   "outputs": [
    {
     "name": "stdout",
     "output_type": "stream",
     "text": [
      "0.6362986780993212\n"
     ]
    }
   ],
   "source": [
    "gender_fem = gender_all[gender_all.gender_num == 0]\n",
    "fem_usa = len(gender_fem[gender_fem.CountryLive == \"United States of America\"]) / len(gender_fem)\n",
    "print(fem_usa)"
   ]
  },
  {
   "cell_type": "markdown",
   "metadata": {},
   "source": [
    "### age vs gender"
   ]
  },
  {
   "cell_type": "code",
   "execution_count": null,
   "metadata": {
    "collapsed": false
   },
   "outputs": [],
   "source": [
    "gender_al = data[[\"CodeEventMeetup\", \"gender_num\"]].dropna()\n",
    "gender_al = gender_al.reset_index(drop=True)\n",
    "gender_men = gender_al[gender_al.gender_num == 1]\n",
    "men_attend_bc = len(gender_men[gender_men.CodeEventMeetup == 1]) / len(gender_men)\n",
    "print(men_attend_bc)"
   ]
  },
  {
   "cell_type": "code",
   "execution_count": null,
   "metadata": {
    "collapsed": false
   },
   "outputs": [],
   "source": [
    "len(data[data.CodeEventMeetup == 1])"
   ]
  },
  {
   "cell_type": "code",
   "execution_count": null,
   "metadata": {
    "collapsed": false
   },
   "outputs": [],
   "source": [
    "data_city = data[data.gender_num == 0]\n",
    "city_attend_event = len(data_city[data_city.AttendedBootcamp == 1]) / len(data_city)\n",
    "print(city_attend_event)"
   ]
  },
  {
   "cell_type": "code",
   "execution_count": null,
   "metadata": {
    "collapsed": false
   },
   "outputs": [],
   "source": [
    "data_city = data[data.city_size == 2]\n",
    "city_attend_event = len(data_city[data_city.gender_num == 0]) / len(data_city)\n",
    "print(city_attend_event)"
   ]
  },
  {
   "cell_type": "code",
   "execution_count": null,
   "metadata": {
    "collapsed": false
   },
   "outputs": [],
   "source": [
    "data_city = data[data.city_size == 3]\n",
    "city_attend_event = len(data_city[data_city.gender_num == 1]) / len(data_city)\n",
    "print(city_attend_event)"
   ]
  },
  {
   "cell_type": "code",
   "execution_count": null,
   "metadata": {
    "collapsed": false
   },
   "outputs": [],
   "source": [
    "bins=np.arange(0, 80, 2)\n",
    "data_gen_ag = data[data.CountryLive == \"United States of America\"]\n",
    "plt.hist(data_gen_ag.Age.dropna(), bins=bins)\n",
    "plt.title('USA Age distribution')\n",
    "plt.show()"
   ]
  },
  {
   "cell_type": "code",
   "execution_count": null,
   "metadata": {
    "collapsed": false
   },
   "outputs": [],
   "source": [
    "data_gen_ag = data[data.Gender == \"male\"]\n",
    "data_gen_ag = data[data.CountryLive != \"United States of America\"]\n",
    "plt.hist(data_gen_ag.Age.dropna(), bins=bins)\n",
    "plt.title('Male Age distribution')\n",
    "plt.show()"
   ]
  },
  {
   "cell_type": "code",
   "execution_count": null,
   "metadata": {
    "collapsed": false
   },
   "outputs": [],
   "source": [
    "data_cleaned = data[[\"Age\", \"CountryLive\", \"gender_num\"]].dropna()\n",
    "data_cleaned = data_cleaned.reset_index(drop=True)"
   ]
  },
  {
   "cell_type": "code",
   "execution_count": null,
   "metadata": {
    "collapsed": true
   },
   "outputs": [],
   "source": [
    "def classify_country(x):\n",
    "    \"\"\"Create 2 classes from CountryLive, USA = 1, not USA = 0\"\"\"\n",
    "    if x.CountryLive == \"United States of America\":\n",
    "        return 1\n",
    "    else:\n",
    "        return 0\n",
    "\n",
    "data_cleaned[\"country_num\"] = [classify_country(data_cleaned.loc[i]) for i in range(len(data_cleaned))]"
   ]
  },
  {
   "cell_type": "markdown",
   "metadata": {},
   "source": [
    "### All ages"
   ]
  },
  {
   "cell_type": "code",
   "execution_count": null,
   "metadata": {
    "collapsed": false
   },
   "outputs": [],
   "source": [
    "scaler = MinMaxScaler()\n",
    "\n",
    "data_cleaned[\"age_scaled\"] = scaler.fit_transform(data_cleaned.Age.reshape(-1, 1))\n",
    "data_cleaned[\"country_scaled\"] = scaler.fit_transform(data_cleaned.country_num.reshape(-1, 1))\n",
    "\n",
    "x_train, x_test, y_train, y_test = train_test_split(\n",
    "    data_cleaned[[\"country_scaled\"]],\n",
    "    data_cleaned.gender_num,\n",
    "    test_size=0.33\n",
    ")\n",
    "\n",
    "clf = KN(n_neighbors=4)\n",
    "\n",
    "clf.fit(x_train, y_train)\n",
    "\n",
    "y_model = clf.predict(x_test)\n",
    "\n",
    "a_s(y_test, y_model)"
   ]
  },
  {
   "cell_type": "markdown",
   "metadata": {},
   "source": [
    "### Cross Validation"
   ]
  },
  {
   "cell_type": "code",
   "execution_count": null,
   "metadata": {
    "collapsed": false
   },
   "outputs": [],
   "source": [
    "kf = KFold(n_splits=5, shuffle=True)\n",
    "\n",
    "kf.get_n_splits(data_cleaned)\n",
    "\n",
    "for train_index, test_index in kf.split(data_cleaned):\n",
    "    clf = KN(n_neighbors=34)\n",
    "    X_train = data_cleaned[[\"country_scaled\"]].loc[train_index]\n",
    "    X_test = data_cleaned[[\"country_scaled\"]].loc[test_index]\n",
    "\n",
    "    y_train = data_cleaned.gender_num.loc[train_index]\n",
    "    y_test = data_cleaned.gender_num.loc[test_index]\n",
    "    clf.fit(X_train, y_train)\n",
    "    y_model = clf.predict(X_test)\n",
    "    print(\"accuracy: \", a_s(y_test, y_model))"
   ]
  },
  {
   "cell_type": "markdown",
   "metadata": {},
   "source": [
    "### Ages < 20"
   ]
  },
  {
   "cell_type": "code",
   "execution_count": null,
   "metadata": {
    "collapsed": false
   },
   "outputs": [],
   "source": [
    "scaler = MinMaxScaler()\n",
    "data_cleaned_30 = data_cleaned[data_cleaned.Age < 20]\n",
    "data_cleaned_30[\"age_scaled\"] = scaler.fit_transform(data_cleaned_30.Age.reshape(-1, 1))\n",
    "data_cleaned_30[\"country_scaled\"] = scaler.fit_transform(data_cleaned_30.country_num.reshape(-1, 1))\n",
    "\n",
    "x_train, x_test, y_train, y_test = train_test_split(\n",
    "    data_cleaned_30[[\"age_scaled\"]],\n",
    "    data_cleaned_30.gender_num,\n",
    "    test_size=0.33\n",
    ")\n",
    "\n",
    "clf = KN(n_neighbors=4)\n",
    "\n",
    "clf.fit(x_train, y_train)\n",
    "\n",
    "y_model = clf.predict(x_test)\n",
    "\n",
    "a_s(y_test, y_model)"
   ]
  },
  {
   "cell_type": "code",
   "execution_count": null,
   "metadata": {
    "collapsed": false
   },
   "outputs": [],
   "source": [
    "data_cleaned_inc = data[[\"Age\", \"Income\", \"gender_num\", \"CountryLive\"]].dropna()\n",
    "data_cleaned_inc = data_cleaned_inc.reset_index(drop=True)"
   ]
  },
  {
   "cell_type": "code",
   "execution_count": null,
   "metadata": {
    "collapsed": false
   },
   "outputs": [],
   "source": [
    "def classify_country(x):\n",
    "    \"\"\"Create 2 classes from CountryLive, USA = 1, not USA = 0\"\"\"\n",
    "    if x.CountryLive == \"United States of America\":\n",
    "        return 1\n",
    "    else:\n",
    "        return 0\n",
    "\n",
    "data_cleaned_inc[\"country_num\"] = [classify_country(data_cleaned_inc.loc[i]) for i in range(len(data_cleaned_inc))]"
   ]
  },
  {
   "cell_type": "code",
   "execution_count": null,
   "metadata": {
    "collapsed": false
   },
   "outputs": [],
   "source": [
    "data_cleaned_inc.columns"
   ]
  },
  {
   "cell_type": "code",
   "execution_count": 14,
   "metadata": {
    "collapsed": false
   },
   "outputs": [
    {
     "ename": "NameError",
     "evalue": "name 'data_cleaned_inc' is not defined",
     "output_type": "error",
     "traceback": [
      "\u001b[0;31m---------------------------------------------------------------------------\u001b[0m",
      "\u001b[0;31mNameError\u001b[0m                                 Traceback (most recent call last)",
      "\u001b[0;32m<ipython-input-14-4c2a13c339ec>\u001b[0m in \u001b[0;36m<module>\u001b[0;34m()\u001b[0m\n\u001b[1;32m      1\u001b[0m \u001b[0mscaler\u001b[0m \u001b[0;34m=\u001b[0m \u001b[0mMinMaxScaler\u001b[0m\u001b[0;34m(\u001b[0m\u001b[0;34m)\u001b[0m\u001b[0;34m\u001b[0m\u001b[0m\n\u001b[0;32m----> 2\u001b[0;31m \u001b[0mdata_cleaned_inc\u001b[0m\u001b[0;34m[\u001b[0m\u001b[0;34m\"age_scaled\"\u001b[0m\u001b[0;34m]\u001b[0m \u001b[0;34m=\u001b[0m \u001b[0mscaler\u001b[0m\u001b[0;34m.\u001b[0m\u001b[0mfit_transform\u001b[0m\u001b[0;34m(\u001b[0m\u001b[0mdata_cleaned_inc\u001b[0m\u001b[0;34m.\u001b[0m\u001b[0mAge\u001b[0m\u001b[0;34m.\u001b[0m\u001b[0mreshape\u001b[0m\u001b[0;34m(\u001b[0m\u001b[0;34m-\u001b[0m\u001b[0;36m1\u001b[0m\u001b[0;34m,\u001b[0m \u001b[0;36m1\u001b[0m\u001b[0;34m)\u001b[0m\u001b[0;34m)\u001b[0m\u001b[0;34m\u001b[0m\u001b[0m\n\u001b[0m\u001b[1;32m      3\u001b[0m \u001b[0mdata_cleaned_inc\u001b[0m\u001b[0;34m[\u001b[0m\u001b[0;34m\"income_scaled\"\u001b[0m\u001b[0;34m]\u001b[0m \u001b[0;34m=\u001b[0m \u001b[0mscaler\u001b[0m\u001b[0;34m.\u001b[0m\u001b[0mfit_transform\u001b[0m\u001b[0;34m(\u001b[0m\u001b[0mdata_cleaned_inc\u001b[0m\u001b[0;34m.\u001b[0m\u001b[0mIncome\u001b[0m\u001b[0;34m.\u001b[0m\u001b[0mreshape\u001b[0m\u001b[0;34m(\u001b[0m\u001b[0;34m-\u001b[0m\u001b[0;36m1\u001b[0m\u001b[0;34m,\u001b[0m \u001b[0;36m1\u001b[0m\u001b[0;34m)\u001b[0m\u001b[0;34m)\u001b[0m\u001b[0;34m\u001b[0m\u001b[0m\n\u001b[1;32m      4\u001b[0m \u001b[0mdata_cleaned_inc\u001b[0m\u001b[0;34m[\u001b[0m\u001b[0;34m\"country_scaled\"\u001b[0m\u001b[0;34m]\u001b[0m \u001b[0;34m=\u001b[0m \u001b[0mscaler\u001b[0m\u001b[0;34m.\u001b[0m\u001b[0mfit_transform\u001b[0m\u001b[0;34m(\u001b[0m\u001b[0mdata_cleaned_inc\u001b[0m\u001b[0;34m.\u001b[0m\u001b[0mcountry_num\u001b[0m\u001b[0;34m.\u001b[0m\u001b[0mreshape\u001b[0m\u001b[0;34m(\u001b[0m\u001b[0;34m-\u001b[0m\u001b[0;36m1\u001b[0m\u001b[0;34m,\u001b[0m \u001b[0;36m1\u001b[0m\u001b[0;34m)\u001b[0m\u001b[0;34m)\u001b[0m\u001b[0;34m\u001b[0m\u001b[0m\n\u001b[1;32m      5\u001b[0m \u001b[0;34m\u001b[0m\u001b[0m\n",
      "\u001b[0;31mNameError\u001b[0m: name 'data_cleaned_inc' is not defined"
     ]
    }
   ],
   "source": [
    "scaler = MinMaxScaler()\n",
    "data_cleaned_inc[\"age_scaled\"] = scaler.fit_transform(data_cleaned_inc.Age.reshape(-1, 1))\n",
    "data_cleaned_inc[\"income_scaled\"] = scaler.fit_transform(data_cleaned_inc.Income.reshape(-1, 1))\n",
    "data_cleaned_inc[\"country_scaled\"] = scaler.fit_transform(data_cleaned_inc.country_num.reshape(-1, 1))\n",
    "\n",
    "x_train, x_test, y_train, y_test = train_test_split(\n",
    "    data_cleaned_inc[[\"income_scaled\"]],\n",
    "    data_cleaned_inc.gender_num,\n",
    "    test_size=0.33\n",
    ")\n",
    "\n",
    "clf = KN(n_neighbors=4)\n",
    "\n",
    "clf.fit(x_train, y_train)\n",
    "\n",
    "y_model = clf.predict(x_test)\n",
    "\n",
    "a_s(y_test, y_model)"
   ]
  },
  {
   "cell_type": "code",
   "execution_count": null,
   "metadata": {
    "collapsed": true
   },
   "outputs": [],
   "source": [
    "\n",
    "print(\"USA:\")\n",
    "print(\"Women average age: {} years, std.dev = {}\".format(round(women_age_avg_usa, 1), round(women_age_std_usa, 1)))\n",
    "print(\"Men average age: {} years, std.dev = {}\".format(round(men_age_avg_usa, 1), round(men_age_std_usa, 1)))\n",
    "print(\"Difference in average age:\" , round(difference_age_usa, 1))\n",
    "print()\n",
    "print('USA age difference for males vs. females, t-Test results:')\n",
    "print('t-stat = {}, pval = {}'.format(round(tstat_usa, 1), round(pval_usa, 4)))\n",
    "print()\n",
    "print(\"The rest of the world:\")\n",
    "print(\"Women average age: {} years, std.dev = {}\".format(round(women_age_avg_other, 1), round(women_age_std_other, 1)))\n",
    "print(\"Men average age: {} years, std.dev = {}\".format(round(men_age_avg_other, 1), round(men_age_std_other, 1)))\n",
    "print(\"Difference in average age:\" , round(difference_age_other, 1))\n",
    "print()\n",
    "print('t-Test results:')\n",
    "print('t-stat = {}, pval = {}'.format(round(tstat_other, 1), round(pval_other, 4)))"
   ]
  },
  {
   "cell_type": "code",
   "execution_count": null,
   "metadata": {
    "collapsed": true
   },
   "outputs": [],
   "source": [
    "# Investigate difference in age between men and women\n",
    "# Avg age  and std.dev by gender\n",
    "data_male_age = data_age_gender[data_age_gender.Gender == 'male'].Age\n",
    "data_fem_age = data_age_gender[data_age_gender.Gender == 'female'].Age\n",
    "\n",
    "women_age_avg = data_fem_age.mean()\n",
    "men_age_avg = data_male_age.mean()\n",
    "difference_age = women_age_avg - men_age_avg\n",
    "\n",
    "women_age_std = data_fem_age.std()\n",
    "men_age_std = data_male_age.std()\n",
    "\n",
    "tstat, pval = ttest_ind(data_male_age, data_fem_age, equal_var=False)\n",
    "print(\"1. Is there a difference in age between men and women who is actively learning how to code?\")\n",
    "print()\n",
    "print(\"Women average age: {} years, std.dev = {}\".format(round(women_age_avg, 1), round(women_age_std, 1)))\n",
    "print(\"Men average age: {} years, std.dev = {}\".format(round(men_age_avg, 1), round(men_age_std, 1)))\n",
    "print(\"Difference in average age:\" , round(difference_age, 1))\n",
    "print()\n",
    "print('t-Test results:')\n",
    "print('t-stat = {}, pval = {}'.format(round(tstat, 1), round(pval, 4)))\n",
    "\n",
    "# Visualize the age distribution for men and women\n",
    "\n",
    "bins=np.arange(0, 80, 2)\n",
    "plt.figure(figsize=(7, 3))\n",
    "plt.hist(data_male_age, color='green', bins=bins, label=\"Male\")\n",
    "plt.hist(data_fem_age, color='purple', alpha = 0.5, bins=bins, label=\"Female\")\n",
    "\n",
    "plt.title(\"Age distribution for Female and Male Participants\")\n",
    "plt.xlabel(\"Age\")\n",
    "plt.ylabel(\"Number of participant\")\n",
    "plt.legend()\n",
    "plt.show()\n",
    "\n",
    "########################################################\n",
    "# Investigate difference in income between men and women\n",
    "# Avg income  and std.dev by gender\n",
    "data_male_inc = data_inc_gender[data_inc_gender.Gender == 'male'].Income\n",
    "data_fem_inc = data_inc_gender[data_inc_gender.Gender == 'female'].Income\n",
    "\n",
    "women_inc_avg = data_fem_inc.mean()\n",
    "men_inc_avg = data_male_inc.mean()\n",
    "\n",
    "difference_inc = men_inc_avg - women_inc_avg\n",
    "\n",
    "women_inc_std = data_fem_inc.std()\n",
    "men_inc_std = data_male_inc.std()\n",
    "\n",
    "tstat, pval = ttest_ind(data_male_inc, data_fem_inc, equal_var=False)\n",
    "print(\"2. Is there a difference in income between men and women who is actively learning how to code?\")\n",
    "print()\n",
    "print(\"Women average income: ${}, std.dev = {}\".format(round(women_inc_avg, 1), round(women_inc_std, 1)))\n",
    "print(\"Men average income: ${}, std.dev = {}\".format(round(men_inc_avg, 1), round(men_inc_std, 1)))\n",
    "print(\"Difference in avegare income:\" , round(difference_inc, 1))\n",
    "print()\n",
    "print('t-Test results:')\n",
    "print('t-stat = {}, pval = {}'.format(round(tstat, 1), round(pval, 4)))\n",
    "\n",
    "# Visualize the age distribution for men and women\n",
    "bins=np.arange(0, 200000, 10000)\n",
    "plt.figure(figsize=(7, 3))\n",
    "plt.hist(data_male_inc, color='green', bins=bins, label=\"Male\")\n",
    "plt.hist(data_fem_inc, color='purple', alpha = 0.5, bins=bins, label=\"Female\")\n",
    "\n",
    "plt.title(\"Income distribution for Female and Male Participants\")\n",
    "plt.xlabel(\"Income, USD\")\n",
    "plt.ylabel(\"Number of participant\")\n",
    "plt.legend()\n",
    "plt.show()\n"
   ]
  }
 ],
 "metadata": {
  "kernelspec": {
   "display_name": "Python 3",
   "language": "python",
   "name": "python3"
  },
  "language_info": {
   "codemirror_mode": {
    "name": "ipython",
    "version": 3
   },
   "file_extension": ".py",
   "mimetype": "text/x-python",
   "name": "python",
   "nbconvert_exporter": "python",
   "pygments_lexer": "ipython3",
   "version": "3.5.1"
  }
 },
 "nbformat": 4,
 "nbformat_minor": 1
}
